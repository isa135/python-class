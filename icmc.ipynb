{
  "nbformat": 4,
  "nbformat_minor": 0,
  "metadata": {
    "colab": {
      "provenance": [],
      "authorship_tag": "ABX9TyPxMQlVAbbJ2icbknDBcdyK",
      "include_colab_link": true
    },
    "kernelspec": {
      "name": "python3",
      "display_name": "Python 3"
    },
    "language_info": {
      "name": "python"
    }
  },
  "cells": [
    {
      "cell_type": "markdown",
      "metadata": {
        "id": "view-in-github",
        "colab_type": "text"
      },
      "source": [
        "<a href=\"https://colab.research.google.com/github/isa135/python-coding/blob/main/icmc.ipynb\" target=\"_parent\"><img src=\"https://colab.research.google.com/assets/colab-badge.svg\" alt=\"Open In Colab\"/></a>"
      ]
    },
    {
      "cell_type": "markdown",
      "source": [
        "Python para Processamento de Linguagem Natural: Edição Comemorativa dos 50 anos do ICMC"
      ],
      "metadata": {
        "id": "oz6Apx7I7Edw"
      }
    },
    {
      "cell_type": "markdown",
      "source": [
        "https://cursosextensao.usp.br/course/view.php?id=2721"
      ],
      "metadata": {
        "id": "X_8Ob36u67LO"
      }
    },
    {
      "cell_type": "markdown",
      "source": [
        "https://cursosextensao.usp.br/pluginfile.php/747008/mod_resource/content/0/Aula%203%20-%20Python%20para%20PLN.pdf"
      ],
      "metadata": {
        "id": "atExMDQd7ISi"
      }
    },
    {
      "cell_type": "code",
      "execution_count": 5,
      "metadata": {
        "id": "NHeKIQof6NOi"
      },
      "outputs": [],
      "source": [
        "palavra = \"palavra\"\n",
        "numeroInteiro = 2\n",
        "numeroFloat = 2.0\n",
        "boleano = True"
      ]
    },
    {
      "cell_type": "code",
      "source": [
        "type(palavra)"
      ],
      "metadata": {
        "colab": {
          "base_uri": "https://localhost:8080/"
        },
        "id": "M5mtYckE6bvV",
        "outputId": "51272fdc-e397-4594-ca06-d9c99a84a250"
      },
      "execution_count": 6,
      "outputs": [
        {
          "output_type": "execute_result",
          "data": {
            "text/plain": [
              "str"
            ]
          },
          "metadata": {},
          "execution_count": 6
        }
      ]
    },
    {
      "cell_type": "code",
      "source": [
        "type(numeroInteiro)"
      ],
      "metadata": {
        "colab": {
          "base_uri": "https://localhost:8080/"
        },
        "id": "HD3aIP666gjI",
        "outputId": "401599b7-e8dc-410d-9bbe-ef4e82685a9a"
      },
      "execution_count": 7,
      "outputs": [
        {
          "output_type": "execute_result",
          "data": {
            "text/plain": [
              "int"
            ]
          },
          "metadata": {},
          "execution_count": 7
        }
      ]
    },
    {
      "cell_type": "code",
      "source": [
        "type(numeroFloat)"
      ],
      "metadata": {
        "colab": {
          "base_uri": "https://localhost:8080/"
        },
        "id": "LWvWwdpc6j0V",
        "outputId": "9d933b43-2b32-4e3b-c9ce-080d9a8282ca"
      },
      "execution_count": 8,
      "outputs": [
        {
          "output_type": "execute_result",
          "data": {
            "text/plain": [
              "float"
            ]
          },
          "metadata": {},
          "execution_count": 8
        }
      ]
    },
    {
      "cell_type": "code",
      "source": [
        "type(boleano)"
      ],
      "metadata": {
        "colab": {
          "base_uri": "https://localhost:8080/"
        },
        "id": "KJG9pPgP6mAm",
        "outputId": "58432582-c32e-4f47-e244-547e64eb21d5"
      },
      "execution_count": 9,
      "outputs": [
        {
          "output_type": "execute_result",
          "data": {
            "text/plain": [
              "bool"
            ]
          },
          "metadata": {},
          "execution_count": 9
        }
      ]
    },
    {
      "cell_type": "markdown",
      "source": [
        "LISTA"
      ],
      "metadata": {
        "id": "h_9PaVp4-myB"
      }
    },
    {
      "cell_type": "markdown",
      "source": [
        "Listas: mutáveis e delimitadas por colchetes\n",
        "\n",
        "Tuplas: imutáveis e delimitadas por parênteses"
      ],
      "metadata": {
        "id": "5CEs53mR7bbC"
      }
    },
    {
      "cell_type": "code",
      "source": [
        "lista = list(range(5))"
      ],
      "metadata": {
        "id": "W47NMA7E63Dw"
      },
      "execution_count": 11,
      "outputs": []
    },
    {
      "cell_type": "code",
      "source": [
        "lista.append(5)\n",
        "lista"
      ],
      "metadata": {
        "colab": {
          "base_uri": "https://localhost:8080/"
        },
        "id": "XiRMyvRt7j9F",
        "outputId": "219b6e54-5a17-4f7c-b811-c4ad6d722da7"
      },
      "execution_count": 12,
      "outputs": [
        {
          "output_type": "execute_result",
          "data": {
            "text/plain": [
              "[0, 1, 2, 3, 4, 5]"
            ]
          },
          "metadata": {},
          "execution_count": 12
        }
      ]
    },
    {
      "cell_type": "code",
      "source": [
        "# insere na posição x, o valor y\n",
        "# lista.insert(x,y)\n",
        "lista.insert(3,7)\n",
        "lista"
      ],
      "metadata": {
        "colab": {
          "base_uri": "https://localhost:8080/"
        },
        "id": "W3DhULP57pvD",
        "outputId": "9661d31c-a813-4afb-d68c-25c7010f4b34"
      },
      "execution_count": 15,
      "outputs": [
        {
          "output_type": "execute_result",
          "data": {
            "text/plain": [
              "[6, 0, 1, 7, 7, 2, 3, 4, 5]"
            ]
          },
          "metadata": {},
          "execution_count": 15
        }
      ]
    },
    {
      "cell_type": "code",
      "source": [
        "lista.reverse()\n",
        "lista"
      ],
      "metadata": {
        "colab": {
          "base_uri": "https://localhost:8080/"
        },
        "id": "JkL7nEKm7wx7",
        "outputId": "978d0ea2-6ccc-42d1-82f7-a4cc8e086ae1"
      },
      "execution_count": 19,
      "outputs": [
        {
          "output_type": "execute_result",
          "data": {
            "text/plain": [
              "[5, 4, 3, 2, 7, 7, 1, 0, 6]"
            ]
          },
          "metadata": {},
          "execution_count": 19
        }
      ]
    },
    {
      "cell_type": "code",
      "source": [
        "lista.sort()\n",
        "print(lista)"
      ],
      "metadata": {
        "colab": {
          "base_uri": "https://localhost:8080/"
        },
        "id": "mv-yst8b8KBE",
        "outputId": "2e353f0a-24dd-4145-8dc0-fc13bbf58930"
      },
      "execution_count": 21,
      "outputs": [
        {
          "output_type": "stream",
          "name": "stdout",
          "text": [
            "[0, 1, 2, 3, 4, 5, 6, 7, 7]\n"
          ]
        }
      ]
    },
    {
      "cell_type": "markdown",
      "source": [
        "extend(L): inclusão de uma lista l2 (append)\n",
        "\n",
        "remove(x): remove a primeira ocorrência de x\n",
        "\n",
        "index(x): índice da primeira ocorrência de x\n",
        "\n",
        "count(x): número de ocorrências de x na lista "
      ],
      "metadata": {
        "id": "72ydvP1c8cM3"
      }
    },
    {
      "cell_type": "code",
      "source": [
        "lista.count(0)"
      ],
      "metadata": {
        "colab": {
          "base_uri": "https://localhost:8080/"
        },
        "id": "QgXE--8m8SoV",
        "outputId": "6bd53f05-a02d-4033-a7f4-b8fe7f1660a5"
      },
      "execution_count": 24,
      "outputs": [
        {
          "output_type": "execute_result",
          "data": {
            "text/plain": [
              "1"
            ]
          },
          "metadata": {},
          "execution_count": 24
        }
      ]
    },
    {
      "cell_type": "markdown",
      "source": [
        "Listas Slice"
      ],
      "metadata": {
        "id": "HfDcF-lR82v4"
      }
    },
    {
      "cell_type": "code",
      "source": [
        "l = list(range(10))\n",
        "l"
      ],
      "metadata": {
        "colab": {
          "base_uri": "https://localhost:8080/"
        },
        "id": "D4ReiaEt8pJp",
        "outputId": "7e054ddf-c009-423b-c187-c6f7ce759b02"
      },
      "execution_count": 25,
      "outputs": [
        {
          "output_type": "execute_result",
          "data": {
            "text/plain": [
              "[0, 1, 2, 3, 4, 5, 6, 7, 8, 9]"
            ]
          },
          "metadata": {},
          "execution_count": 25
        }
      ]
    },
    {
      "cell_type": "code",
      "source": [
        "print(l[2:7])"
      ],
      "metadata": {
        "colab": {
          "base_uri": "https://localhost:8080/"
        },
        "id": "MCSb8INN881F",
        "outputId": "4b3da427-184c-407f-ab07-a628dc547577"
      },
      "execution_count": 26,
      "outputs": [
        {
          "output_type": "stream",
          "name": "stdout",
          "text": [
            "[2, 3, 4, 5, 6]\n"
          ]
        }
      ]
    },
    {
      "cell_type": "code",
      "source": [
        "# A notação [2:7:2] significa, então, que queremos uma sublista \n",
        "# do 3º ao 7º elemento, pulando de 2 em 2 elementos.\n",
        "print(l[2:7:2])"
      ],
      "metadata": {
        "colab": {
          "base_uri": "https://localhost:8080/"
        },
        "id": "NGgpWSsJ9CIJ",
        "outputId": "e667d609-07b6-4be1-d5a8-1c5b216ea9e4"
      },
      "execution_count": 27,
      "outputs": [
        {
          "output_type": "stream",
          "name": "stdout",
          "text": [
            "[2, 4, 6]\n"
          ]
        }
      ]
    },
    {
      "cell_type": "code",
      "source": [
        "print(l[2:])"
      ],
      "metadata": {
        "colab": {
          "base_uri": "https://localhost:8080/"
        },
        "id": "8zUsZ35V9a8n",
        "outputId": "ac59aed6-2d6f-4d49-cf97-cb0e8c2ce9ef"
      },
      "execution_count": 29,
      "outputs": [
        {
          "output_type": "stream",
          "name": "stdout",
          "text": [
            "[2, 3, 4, 5, 6, 7, 8, 9]\n"
          ]
        }
      ]
    },
    {
      "cell_type": "code",
      "source": [
        "print(l[-2:])"
      ],
      "metadata": {
        "colab": {
          "base_uri": "https://localhost:8080/"
        },
        "id": "yChLrHbU9tCx",
        "outputId": "66c78790-d01f-446f-ca95-baf0cb6af1c9"
      },
      "execution_count": 30,
      "outputs": [
        {
          "output_type": "stream",
          "name": "stdout",
          "text": [
            "[8, 9]\n"
          ]
        }
      ]
    },
    {
      "cell_type": "code",
      "source": [
        "print(l[:-5])"
      ],
      "metadata": {
        "colab": {
          "base_uri": "https://localhost:8080/"
        },
        "id": "O9u9VIme9yZY",
        "outputId": "ef10fc5c-1010-4d00-d59d-56d0f296498e"
      },
      "execution_count": 31,
      "outputs": [
        {
          "output_type": "stream",
          "name": "stdout",
          "text": [
            "[0, 1, 2, 3, 4]\n"
          ]
        }
      ]
    },
    {
      "cell_type": "code",
      "source": [
        "# Pular de n em n elementos na lista:\n",
        "# l[::3]\n",
        "print(l[::3])"
      ],
      "metadata": {
        "colab": {
          "base_uri": "https://localhost:8080/"
        },
        "id": "ceGtJRVG92TU",
        "outputId": "27cea529-5ae6-4e95-909d-ad38eb7f2afe"
      },
      "execution_count": 35,
      "outputs": [
        {
          "output_type": "stream",
          "name": "stdout",
          "text": [
            "[0, 3, 6, 9]\n"
          ]
        }
      ]
    },
    {
      "cell_type": "code",
      "source": [
        "print(l[3:])"
      ],
      "metadata": {
        "colab": {
          "base_uri": "https://localhost:8080/"
        },
        "id": "rWWGjLsG9_EV",
        "outputId": "09ff46f9-717b-4b83-dfd7-c691c65d783a"
      },
      "execution_count": 36,
      "outputs": [
        {
          "output_type": "stream",
          "name": "stdout",
          "text": [
            "[3, 4, 5, 6, 7, 8, 9]\n"
          ]
        }
      ]
    },
    {
      "cell_type": "code",
      "source": [
        "# O reverse()pode ser representado por l[::-1]\n",
        "print(lista)\n",
        "print(lista[::-1])"
      ],
      "metadata": {
        "colab": {
          "base_uri": "https://localhost:8080/"
        },
        "id": "7jJhrvw8-CMh",
        "outputId": "89355719-9f8d-4545-d8fc-9c9c615e218d"
      },
      "execution_count": 42,
      "outputs": [
        {
          "output_type": "stream",
          "name": "stdout",
          "text": [
            "[0, 1, 2, 3, 4, 5, 6, 7, 7]\n",
            "[7, 7, 6, 5, 4, 3, 2, 1, 0]\n"
          ]
        }
      ]
    },
    {
      "cell_type": "code",
      "source": [
        "print(lista[7])"
      ],
      "metadata": {
        "colab": {
          "base_uri": "https://localhost:8080/"
        },
        "id": "h7qWh37d_RoR",
        "outputId": "fe31fce4-98bf-4499-9f88-a14877f8a734"
      },
      "execution_count": 47,
      "outputs": [
        {
          "output_type": "stream",
          "name": "stdout",
          "text": [
            "7\n"
          ]
        }
      ]
    },
    {
      "cell_type": "code",
      "source": [
        "print(lista.index(3))"
      ],
      "metadata": {
        "colab": {
          "base_uri": "https://localhost:8080/"
        },
        "id": "fozd7sBs_74b",
        "outputId": "14811c19-3f21-415a-fb18-2f5b4cb9e730"
      },
      "execution_count": 57,
      "outputs": [
        {
          "output_type": "stream",
          "name": "stdout",
          "text": [
            "3\n"
          ]
        }
      ]
    },
    {
      "cell_type": "code",
      "source": [
        "print(len(lista))"
      ],
      "metadata": {
        "colab": {
          "base_uri": "https://localhost:8080/"
        },
        "id": "U_9W7h4U_Ycu",
        "outputId": "30063bbf-4d84-4993-bc07-61413692bd76"
      },
      "execution_count": 49,
      "outputs": [
        {
          "output_type": "stream",
          "name": "stdout",
          "text": [
            "9\n"
          ]
        }
      ]
    },
    {
      "cell_type": "markdown",
      "source": [
        "TUPLAS"
      ],
      "metadata": {
        "id": "URqlUaAM-s5p"
      }
    },
    {
      "cell_type": "code",
      "source": [
        "t = (1, \"teste\", 5, \"sim\")\n",
        "t"
      ],
      "metadata": {
        "colab": {
          "base_uri": "https://localhost:8080/"
        },
        "id": "J1QWVhaI-X3j",
        "outputId": "f992f109-1e62-4694-b931-f3acfc485452"
      },
      "execution_count": 44,
      "outputs": [
        {
          "output_type": "execute_result",
          "data": {
            "text/plain": [
              "(1, 'teste', 5, 'sim')"
            ]
          },
          "metadata": {},
          "execution_count": 44
        }
      ]
    },
    {
      "cell_type": "code",
      "source": [
        "t[2]"
      ],
      "metadata": {
        "colab": {
          "base_uri": "https://localhost:8080/"
        },
        "id": "pkxVKdXX_Mhj",
        "outputId": "24b09a04-733f-4f77-81a3-beb751cba9ab"
      },
      "execution_count": 50,
      "outputs": [
        {
          "output_type": "execute_result",
          "data": {
            "text/plain": [
              "5"
            ]
          },
          "metadata": {},
          "execution_count": 50
        }
      ]
    },
    {
      "cell_type": "code",
      "source": [
        "t.count(1)"
      ],
      "metadata": {
        "colab": {
          "base_uri": "https://localhost:8080/"
        },
        "id": "eDeVg5To_kft",
        "outputId": "3eadbdc6-766c-41fe-ffd8-633916111aa2"
      },
      "execution_count": 51,
      "outputs": [
        {
          "output_type": "execute_result",
          "data": {
            "text/plain": [
              "1"
            ]
          },
          "metadata": {},
          "execution_count": 51
        }
      ]
    },
    {
      "cell_type": "code",
      "source": [
        "t.index(5)"
      ],
      "metadata": {
        "colab": {
          "base_uri": "https://localhost:8080/"
        },
        "id": "LRKGcnEx_xMm",
        "outputId": "d985d2f0-6a71-4190-a469-e430e3b4ebd3"
      },
      "execution_count": 55,
      "outputs": [
        {
          "output_type": "execute_result",
          "data": {
            "text/plain": [
              "2"
            ]
          },
          "metadata": {},
          "execution_count": 55
        }
      ]
    },
    {
      "cell_type": "code",
      "source": [],
      "metadata": {
        "id": "-2OgVRuO_zZV"
      },
      "execution_count": null,
      "outputs": []
    }
  ]
}