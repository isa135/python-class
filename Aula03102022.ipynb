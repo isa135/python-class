{
  "nbformat": 4,
  "nbformat_minor": 0,
  "metadata": {
    "colab": {
      "provenance": [],
      "collapsed_sections": [],
      "authorship_tag": "ABX9TyMnHc6Wpg6Tu8UrgqoYiAPO",
      "include_colab_link": true
    },
    "kernelspec": {
      "name": "python3",
      "display_name": "Python 3"
    },
    "language_info": {
      "name": "python"
    }
  },
  "cells": [
    {
      "cell_type": "markdown",
      "metadata": {
        "id": "view-in-github",
        "colab_type": "text"
      },
      "source": [
        "<a href=\"https://colab.research.google.com/github/isa135/python-coding/blob/main/Aula03102022.ipynb\" target=\"_parent\"><img src=\"https://colab.research.google.com/assets/colab-badge.svg\" alt=\"Open In Colab\"/></a>"
      ]
    },
    {
      "cell_type": "code",
      "execution_count": 1,
      "metadata": {
        "id": "9w4M8m1Qo7VY"
      },
      "outputs": [],
      "source": [
        "from bs4 import BeautifulSoup\n",
        "\n",
        "from urllib.request import urlopen\n",
        "from urllib.error import URLError, HTTPError"
      ]
    },
    {
      "cell_type": "code",
      "source": [
        "response = urlopen('https://alura-site-scraping.herokuapp.com/index.php')\n",
        "html = response.read().decode('utf-8')\n",
        "soup = BeautifulSoup(html, 'html.parser')\n",
        "soup"
      ],
      "metadata": {
        "colab": {
          "base_uri": "https://localhost:8080/"
        },
        "id": "3ahlwX8RpCF3",
        "outputId": "05cc1e86-6919-4cb2-f788-eb3db930464a"
      },
      "execution_count": 95,
      "outputs": [
        {
          "output_type": "execute_result",
          "data": {
            "text/plain": [
              "<!DOCTYPE html>\n",
              "\n",
              "<html lang=\"pt-br\">\n",
              "<head>\n",
              "<meta charset=\"utf-8\"/>\n",
              "<meta content=\"width=device-width, initial-scale=1, shrink-to-fit=no\" name=\"viewport\"/>\n",
              "<title>Alura Motors</title>\n",
              "<style>\n",
              "\t\t/*Regra para a animacao*/\n",
              "\t\t@keyframes spin {\n",
              "\t\t\t0% { transform: rotate(0deg); }\n",
              "\t\t\t100% { transform: rotate(360deg); }\n",
              "\t\t}\n",
              "\t\t/*Mudando o tamanho do icone de resposta*/\n",
              "\t\tdiv.glyphicon {\n",
              "\t\t\tcolor:#6B8E23;\n",
              "\t\t\tfont-size: 38px;\n",
              "\t\t}\n",
              "\t\t/*Classe que mostra a animacao 'spin'*/\n",
              "\t\t.loader {\n",
              "\t\t\tborder: 16px solid #f3f3f3;\n",
              "\t\t\tborder-radius: 50%;\n",
              "\t\t\tborder-top: 16px solid #3498db;\n",
              "\t\t\twidth: 80px;\n",
              "\t\t\theight: 80px;\n",
              "\t\t\t-webkit-animation: spin 2s linear infinite;\n",
              "\t\t\tanimation: spin 2s linear infinite;\n",
              "\t\t}\n",
              "\t</style>\n",
              "<link crossorigin=\"anonymous\" href=\"https://maxcdn.bootstrapcdn.com/bootstrap/3.3.7/css/bootstrap.min.css\" integrity=\"sha384-BVYiiSIFeK1dGmJRAkycuHAHRg32OmUcww7on3RYdg4Va+PmSTsz/K68vbdEjh4u\" rel=\"stylesheet\"/>\n",
              "<link href=\"css/styles.css\" media=\"all\" rel=\"stylesheet\"/>\n",
              "<script src=\"https://code.jquery.com/jquery-1.12.4.js\"></script>\n",
              "<script crossorigin=\"anonymous\" integrity=\"sha384-Tc5IQib027qvyjSMfHjOMaLkfuWVxZxUPnCJA7l2mCWNIpG9mGCD8wGNIcPD7Txa\" src=\"https://maxcdn.bootstrapcdn.com/bootstrap/3.3.7/js/bootstrap.min.js\"></script>\n",
              "<script src=\"js/index.js\" type=\"text/javascript\"></script>\n",
              "<script>\n",
              "\t\trequisitar(\"https://alura-scraping.herokuapp.com/produtos?_page=\"+1+\"&_limit=10\")\n",
              "\t</script>\n",
              "</head>\n",
              "<body cz-shortcut-listen=\"true\">\n",
              "<noscript>You need to enable JavaScript to run this app.</noscript>\n",
              "<div aria-labelledby=\"loadingModal_label\" class=\"modal fade\" data-backdrop=\"static\" id=\"loadingModal\" role=\"dialog\" tabindex=\"-1\">\n",
              "<div class=\"modal-dialog\" role=\"document\">\n",
              "<div class=\"modal-content\">\n",
              "<div class=\"modal-header\">\n",
              "<h5 class=\"modal-title\" id=\"loadingModal_label\">\n",
              "<span class=\"glyphicon glyphicon-refresh\"></span>Aguarde...\n",
              "\t\t\t\t\t</h5>\n",
              "</div>\n",
              "<div class=\"modal-body\">\n",
              "<div class=\"alert\" role=\"alert\">\n",
              "<center>\n",
              "<div class=\"loader\" id=\"loader\"></div><br/>\n",
              "<h4><b id=\"loadingModal_content\"></b></h4>\n",
              "</center>\n",
              "</div>\n",
              "</div>\n",
              "</div>\n",
              "</div>\n",
              "</div>\n",
              "<div id=\"root\">\n",
              "<header>\n",
              "<nav class=\"navbar navbar-inverse\" style=\"margin-bottom: 0;\">\n",
              "<div class=\"container\" style=\"margin-bottom: -20px;\">\n",
              "<div class=\"navbar\">\n",
              "<a class=\"navbar-brand\" href=\"./index.php\" title=\"Alura Motors\">\n",
              "<img alt=\"Alura\" class=\"d-inline-block align-top\" src=\"img/alura-logo.svg\"/>Motors\n",
              "\t\t\t\t\t\t</a>\n",
              "<ul class=\"nav navbar-nav\" style=\"margin-top: 35px;\">\n",
              "<li><a href=\"./hello-world.php\">Hello World</a></li>\n",
              "<li><a href=\"./index.php\">Anúncios</a></li>\n",
              "</ul>\n",
              "</div>\n",
              "</div>\n",
              "</nav>\n",
              "</header>\n",
              "<div class=\"container\">\n",
              "<h1 class=\"sub-header\">Veículos de Luxo Novos e Usados - Todas as Marcas</h1>\n",
              "<div class=\"row\">\n",
              "<div class=\"col-md-12\">\n",
              "<div class=\"container\" style=\"width: 100%\">\n",
              "<div class=\"type-select\">246 veículos encontrados</div>\n",
              "<div class=\"container-pagination\" style=\"float: right\">\n",
              "<span class=\"info-pages\">Página 1 de 25</span>\n",
              "</div>\n",
              "</div>\n",
              "<div id=\"container-cards\" style=\"height: 100%\">\n",
              "<div class=\"well card\">\n",
              "<div class=\"col-md-3 image-card\">\n",
              "<img alt=\"Foto\" height=\"155\" src=\"https://caelum-online-public.s3.amazonaws.com/1381-scraping/01/img-cars/lamborghini-aventador/lamborghini-aventador-2932196__340.jpg\" width=\"220\"/>\n",
              "</div>\n",
              "<div class=\"col-md-6 body-card\">\n",
              "<p class=\"txt-name inline\">LAMBORGHINI AVENTADOR</p>\n",
              "<p class=\"txt-category badge badge-secondary inline\">USADO</p>\n",
              "<p class=\"txt-motor\">Motor 1.8 16v</p>\n",
              "<p class=\"txt-description\">Ano 1993 - 55.286 km</p>\n",
              "<ul class=\"lst-items\">\n",
              "<li class=\"txt-items\">► 4 X 4</li>\n",
              "<li class=\"txt-items\">► Câmera de estacionamento</li>\n",
              "<li class=\"txt-items\">► Controle de tração</li>\n",
              "<li class=\"txt-items\">► Sensor de estacionamento</li>\n",
              "<li class=\"txt-items\">...</li>\n",
              "</ul>\n",
              "<p class=\"txt-location\">Belo Horizonte - MG</p>\n",
              "</div>\n",
              "<div class=\"col-md-3 value-card\">\n",
              "<div class=\"value\">\n",
              "<p class=\"txt-value\">R$ 338.000</p>\n",
              "</div>\n",
              "</div>\n",
              "</div>\n",
              "<div class=\"well card\">\n",
              "<div class=\"col-md-3 image-card\">\n",
              "<img alt=\"Foto\" height=\"155\" src=\"https://caelum-online-public.s3.amazonaws.com/1381-scraping/01/img-cars/bmw-m2/bmw-m2-2970882__340.jpg\" width=\"220\"/>\n",
              "</div>\n",
              "<div class=\"col-md-6 body-card\">\n",
              "<p class=\"txt-name inline\">BMW M2</p>\n",
              "<p class=\"txt-category badge badge-secondary inline\">USADO</p>\n",
              "<p class=\"txt-motor\">Motor 3.0 32v</p>\n",
              "<p class=\"txt-description\">Ano 2018 - 83.447 km</p>\n",
              "<ul class=\"lst-items\">\n",
              "<li class=\"txt-items\">► Câmera de estacionamento</li>\n",
              "<li class=\"txt-items\">► Controle de estabilidade</li>\n",
              "<li class=\"txt-items\">► Travas elétricas</li>\n",
              "<li class=\"txt-items\">► Freios ABS</li>\n",
              "<li class=\"txt-items\">...</li>\n",
              "</ul>\n",
              "<p class=\"txt-location\">Belo Horizonte - MG</p>\n",
              "</div>\n",
              "<div class=\"col-md-3 value-card\">\n",
              "<div class=\"value\">\n",
              "<p class=\"txt-value\">R$ 346.000</p>\n",
              "</div>\n",
              "</div>\n",
              "</div>\n",
              "<div class=\"well card\">\n",
              "<div class=\"col-md-3 image-card\">\n",
              "<img alt=\"Foto\" height=\"155\" src=\"https://caelum-online-public.s3.amazonaws.com/1381-scraping/01/img-cars/alfa/alfa-1823056__340.jpg\" width=\"220\"/>\n",
              "</div>\n",
              "<div class=\"col-md-6 body-card\">\n",
              "<p class=\"txt-name inline\">ALFA</p>\n",
              "<p class=\"txt-category badge badge-secondary inline\">USADO</p>\n",
              "<p class=\"txt-motor\">Motor 1.8 16v</p>\n",
              "<p class=\"txt-description\">Ano 2004 - 19.722 km</p>\n",
              "<ul class=\"lst-items\">\n",
              "<li class=\"txt-items\">► Central multimídia</li>\n",
              "<li class=\"txt-items\">► Bancos de couro</li>\n",
              "<li class=\"txt-items\">► Rodas de liga</li>\n",
              "<li class=\"txt-items\">► Câmera de estacionamento</li>\n",
              "<li class=\"txt-items\">...</li>\n",
              "</ul>\n",
              "<p class=\"txt-location\">Rio de Janeiro - RJ</p>\n",
              "</div>\n",
              "<div class=\"col-md-3 value-card\">\n",
              "<div class=\"value\">\n",
              "<p class=\"txt-value\">R$ 480.000</p>\n",
              "</div>\n",
              "</div>\n",
              "</div>\n",
              "<div class=\"well card\">\n",
              "<div class=\"col-md-3 image-card\">\n",
              "<img alt=\"Foto\" height=\"155\" src=\"https://caelum-online-public.s3.amazonaws.com/1381-scraping/01/img-cars/puech/puech-4055386__340.jpg\" width=\"220\"/>\n",
              "</div>\n",
              "<div class=\"col-md-6 body-card\">\n",
              "<p class=\"txt-name inline\">PUECH</p>\n",
              "<p class=\"txt-category badge badge-secondary inline\">USADO</p>\n",
              "<p class=\"txt-motor\">Motor Diesel V8</p>\n",
              "<p class=\"txt-description\">Ano 1992 - 34.335 km</p>\n",
              "<ul class=\"lst-items\">\n",
              "<li class=\"txt-items\">► Bancos de couro</li>\n",
              "<li class=\"txt-items\">► Freios ABS</li>\n",
              "<li class=\"txt-items\">► Rodas de liga</li>\n",
              "<li class=\"txt-items\">► Câmbio automático</li>\n",
              "<li class=\"txt-items\">...</li>\n",
              "</ul>\n",
              "<p class=\"txt-location\">São Paulo - SP</p>\n",
              "</div>\n",
              "<div class=\"col-md-3 value-card\">\n",
              "<div class=\"value\">\n",
              "<p class=\"txt-value\">R$ 133.000</p>\n",
              "</div>\n",
              "</div>\n",
              "</div>\n",
              "<div class=\"well card\">\n",
              "<div class=\"col-md-3 image-card\">\n",
              "<img alt=\"Foto\" height=\"155\" src=\"https://caelum-online-public.s3.amazonaws.com/1381-scraping/01/img-cars/lamborghini-murcielago/lamborghini-murcielago-2872974__340.jpg\" width=\"220\"/>\n",
              "</div>\n",
              "<div class=\"col-md-6 body-card\">\n",
              "<p class=\"txt-name inline\">LAMBORGHINI MURCIELAGO</p>\n",
              "<p class=\"txt-category badge badge-secondary inline\">USADO</p>\n",
              "<p class=\"txt-motor\">Motor 1.0 8v</p>\n",
              "<p class=\"txt-description\">Ano 1991 - 464 km</p>\n",
              "<ul class=\"lst-items\">\n",
              "<li class=\"txt-items\">► Central multimídia</li>\n",
              "<li class=\"txt-items\">► Teto panorâmico</li>\n",
              "<li class=\"txt-items\">► Sensor crepuscular</li>\n",
              "<li class=\"txt-items\">► Piloto automático</li>\n",
              "<li class=\"txt-items\">...</li>\n",
              "</ul>\n",
              "<p class=\"txt-location\">Belo Horizonte - MG</p>\n",
              "</div>\n",
              "<div class=\"col-md-3 value-card\">\n",
              "<div class=\"value\">\n",
              "<p class=\"txt-value\">R$ 175.000</p>\n",
              "</div>\n",
              "</div>\n",
              "</div>\n",
              "<div class=\"well card\">\n",
              "<div class=\"col-md-3 image-card\">\n",
              "<img alt=\"Foto\" height=\"155\" src=\"https://caelum-online-public.s3.amazonaws.com/1381-scraping/01/img-cars/aston-martin/aston-martin-2977916__340.jpg\" width=\"220\"/>\n",
              "</div>\n",
              "<div class=\"col-md-6 body-card\">\n",
              "<p class=\"txt-name inline\">ASTON MARTIN</p>\n",
              "<p class=\"txt-category badge badge-secondary inline\">USADO</p>\n",
              "<p class=\"txt-opportunity badge badge-danger inline\">OPORTUNIDADE</p>\n",
              "<p class=\"txt-motor\">Motor Diesel V6</p>\n",
              "<p class=\"txt-description\">Ano 2004 - 50.189 km</p>\n",
              "<ul class=\"lst-items\">\n",
              "<li class=\"txt-items\">► Painel digital</li>\n",
              "<li class=\"txt-items\">► Controle de tração</li>\n",
              "<li class=\"txt-items\">► Teto panorâmico</li>\n",
              "<li class=\"txt-items\">► Central multimídia</li>\n",
              "<li class=\"txt-items\">...</li>\n",
              "</ul>\n",
              "<p class=\"txt-location\">Belo Horizonte - MG</p>\n",
              "</div>\n",
              "<div class=\"col-md-3 value-card\">\n",
              "<div class=\"value\">\n",
              "<p class=\"txt-value\">R$ 239.000</p>\n",
              "</div>\n",
              "</div>\n",
              "</div>\n",
              "<div class=\"well card\">\n",
              "<div class=\"col-md-3 image-card\">\n",
              "<img alt=\"Foto\" height=\"155\" src=\"https://caelum-online-public.s3.amazonaws.com/1381-scraping/01/img-cars/tvr/tvr-2943925__340.jpg\" width=\"220\"/>\n",
              "</div>\n",
              "<div class=\"col-md-6 body-card\">\n",
              "<p class=\"txt-name inline\">TVR</p>\n",
              "<p class=\"txt-category badge badge-secondary inline\">USADO</p>\n",
              "<p class=\"txt-motor\">Motor 4.0 Turbo</p>\n",
              "<p class=\"txt-description\">Ano 2014 - 17.778 km</p>\n",
              "<ul class=\"lst-items\">\n",
              "<li class=\"txt-items\">► 4 X 4</li>\n",
              "<li class=\"txt-items\">► Teto panorâmico</li>\n",
              "<li class=\"txt-items\">► Central multimídia</li>\n",
              "<li class=\"txt-items\">► Controle de estabilidade</li>\n",
              "<li class=\"txt-items\">...</li>\n",
              "</ul>\n",
              "<p class=\"txt-location\">Belo Horizonte - MG</p>\n",
              "</div>\n",
              "<div class=\"col-md-3 value-card\">\n",
              "<div class=\"value\">\n",
              "<p class=\"txt-value\">R$ 115.000</p>\n",
              "</div>\n",
              "</div>\n",
              "</div>\n",
              "<div class=\"well card\">\n",
              "<div class=\"col-md-3 image-card\">\n",
              "<img alt=\"Foto\" height=\"155\" src=\"https://caelum-online-public.s3.amazonaws.com/1381-scraping/01/img-cars/excalibur/excalibur-2916730__340.jpg\" width=\"220\"/>\n",
              "</div>\n",
              "<div class=\"col-md-6 body-card\">\n",
              "<p class=\"txt-name inline\">EXCALIBUR</p>\n",
              "<p class=\"txt-category badge badge-secondary inline\">USADO</p>\n",
              "<p class=\"txt-motor\">Motor 3.0 32v</p>\n",
              "<p class=\"txt-description\">Ano 2009 - 81.251 km</p>\n",
              "<ul class=\"lst-items\">\n",
              "<li class=\"txt-items\">► Painel digital</li>\n",
              "<li class=\"txt-items\">► Câmbio automático</li>\n",
              "<li class=\"txt-items\">► Sensor de chuva</li>\n",
              "<li class=\"txt-items\">► Travas elétricas</li>\n",
              "<li class=\"txt-items\">...</li>\n",
              "</ul>\n",
              "<p class=\"txt-location\">Rio de Janeiro - RJ</p>\n",
              "</div>\n",
              "<div class=\"col-md-3 value-card\">\n",
              "<div class=\"value\">\n",
              "<p class=\"txt-value\">R$ 114.000</p>\n",
              "</div>\n",
              "</div>\n",
              "</div>\n",
              "<div class=\"well card\">\n",
              "<div class=\"col-md-3 image-card\">\n",
              "<img alt=\"Foto\" height=\"155\" src=\"https://caelum-online-public.s3.amazonaws.com/1381-scraping/01/img-cars/mclaren/mclaren-2855240__340.jpg\" width=\"220\"/>\n",
              "</div>\n",
              "<div class=\"col-md-6 body-card\">\n",
              "<p class=\"txt-name inline\">MCLAREN</p>\n",
              "<p class=\"txt-category badge badge-secondary inline\">NOVO</p>\n",
              "<p class=\"txt-motor\">Motor Diesel</p>\n",
              "<p class=\"txt-description\">Ano 2019 - 0 km</p>\n",
              "<ul class=\"lst-items\">\n",
              "<li class=\"txt-items\">► Central multimídia</li>\n",
              "<li class=\"txt-items\">► Câmera de estacionamento</li>\n",
              "<li class=\"txt-items\">► Câmbio automático</li>\n",
              "<li class=\"txt-items\">► Ar condicionado</li>\n",
              "<li class=\"txt-items\">...</li>\n",
              "</ul>\n",
              "<p class=\"txt-location\">São Paulo - SP</p>\n",
              "</div>\n",
              "<div class=\"col-md-3 value-card\">\n",
              "<div class=\"value\">\n",
              "<p class=\"txt-value\">R$ 75.000</p>\n",
              "</div>\n",
              "</div>\n",
              "</div>\n",
              "<div class=\"well card\">\n",
              "<div class=\"col-md-3 image-card\">\n",
              "<img alt=\"Foto\" height=\"155\" src=\"https://caelum-online-public.s3.amazonaws.com/1381-scraping/01/img-cars/toyota/toyota-3245397__340.jpg\" width=\"220\"/>\n",
              "</div>\n",
              "<div class=\"col-md-6 body-card\">\n",
              "<p class=\"txt-name inline\">TOYOTA</p>\n",
              "<p class=\"txt-category badge badge-secondary inline\">USADO</p>\n",
              "<p class=\"txt-opportunity badge badge-danger inline\">OPORTUNIDADE</p>\n",
              "<p class=\"txt-motor\">Motor 4.0 Turbo</p>\n",
              "<p class=\"txt-description\">Ano 1999 - 12.536 km</p>\n",
              "<ul class=\"lst-items\">\n",
              "<li class=\"txt-items\">► Bancos de couro</li>\n",
              "<li class=\"txt-items\">► Freios ABS</li>\n",
              "<li class=\"txt-items\">► Piloto automático</li>\n",
              "<li class=\"txt-items\">► Controle de estabilidade</li>\n",
              "<li class=\"txt-items\">...</li>\n",
              "</ul>\n",
              "<p class=\"txt-location\">São Paulo - SP</p>\n",
              "</div>\n",
              "<div class=\"col-md-3 value-card\">\n",
              "<div class=\"value\">\n",
              "<p class=\"txt-value\">R$ 117.000</p>\n",
              "</div>\n",
              "</div>\n",
              "</div> </div>\n",
              "<div class=\"type-select\">246 veículos encontrados</div>\n",
              "<div class=\"container-pagination\" style=\"float: right\">\n",
              "<span class=\"info-pages\">Página 1 de 25</span>\n",
              "</div>\n",
              "</div>\n",
              "</div>\n",
              "</div>\n",
              "</div>\n",
              "</body></html>\n",
              "<footer>\n",
              "<nav class=\"navbar navbar-inverse\">\n",
              "<div class=\"container\" style=\"margin-bottom: 10px;\">\n",
              "<div class=\"navbar\">\n",
              "<a class=\"navbar-brand\" href=\"./index.php\" title=\"Alura Motors\">\n",
              "<img alt=\"Alura\" class=\"d-inline-block align-top\" src=\"img/alura-logo.svg\"/>Motors\n",
              "\t\t\t\t\t\t</a>\n",
              "<p style=\"color: #fff; text-align: center; margin-top: 40px;\">Aplicação para treinamento de web scraping</p>\n",
              "</div>\n",
              "</div>\n",
              "</nav>\n",
              "</footer>\n",
              "\n",
              "\n"
            ]
          },
          "metadata": {},
          "execution_count": 95
        }
      ]
    },
    {
      "cell_type": "code",
      "source": [
        "cards = []\n",
        "card = {}"
      ],
      "metadata": {
        "id": "aQNTW1KtqgY3"
      },
      "execution_count": 3,
      "outputs": []
    },
    {
      "cell_type": "code",
      "source": [
        "anuncio = soup.find('div', {'class': 'well card'})\n",
        "anuncio"
      ],
      "metadata": {
        "colab": {
          "base_uri": "https://localhost:8080/"
        },
        "id": "3CKl8J2lrHnc",
        "outputId": "4210fbf4-af7f-4f63-ba1c-7738eeccc4bf"
      },
      "execution_count": 6,
      "outputs": [
        {
          "output_type": "execute_result",
          "data": {
            "text/plain": [
              "<div class=\"well card\">\n",
              "<div class=\"col-md-3 image-card\">\n",
              "<img alt=\"Foto\" height=\"155\" src=\"https://caelum-online-public.s3.amazonaws.com/1381-scraping/01/img-cars/lamborghini-aventador/lamborghini-aventador-2932196__340.jpg\" width=\"220\"/>\n",
              "</div>\n",
              "<div class=\"col-md-6 body-card\">\n",
              "<p class=\"txt-name inline\">LAMBORGHINI AVENTADOR</p>\n",
              "<p class=\"txt-category badge badge-secondary inline\">USADO</p>\n",
              "<p class=\"txt-motor\">Motor 1.8 16v</p>\n",
              "<p class=\"txt-description\">Ano 1993 - 55.286 km</p>\n",
              "<ul class=\"lst-items\">\n",
              "<li class=\"txt-items\">► 4 X 4</li>\n",
              "<li class=\"txt-items\">► Câmera de estacionamento</li>\n",
              "<li class=\"txt-items\">► Controle de tração</li>\n",
              "<li class=\"txt-items\">► Sensor de estacionamento</li>\n",
              "<li class=\"txt-items\">...</li>\n",
              "</ul>\n",
              "<p class=\"txt-location\">Belo Horizonte - MG</p>\n",
              "</div>\n",
              "<div class=\"col-md-3 value-card\">\n",
              "<div class=\"value\">\n",
              "<p class=\"txt-value\">R$ 338.000</p>\n",
              "</div>\n",
              "</div>\n",
              "</div>"
            ]
          },
          "metadata": {},
          "execution_count": 6
        }
      ]
    },
    {
      "cell_type": "code",
      "source": [
        "teste = anuncio.find('div', {'class': 'value-card'})\n",
        "teste"
      ],
      "metadata": {
        "colab": {
          "base_uri": "https://localhost:8080/"
        },
        "id": "CJR6UTKNrwpZ",
        "outputId": "e552248e-4b45-49c0-9281-2539be2058fa"
      },
      "execution_count": 12,
      "outputs": [
        {
          "output_type": "execute_result",
          "data": {
            "text/plain": [
              "<div class=\"col-md-3 value-card\">\n",
              "<div class=\"value\">\n",
              "<p class=\"txt-value\">R$ 338.000</p>\n",
              "</div>\n",
              "</div>"
            ]
          },
          "metadata": {},
          "execution_count": 12
        }
      ]
    },
    {
      "cell_type": "code",
      "source": [
        "card['value'] = teste.find('p', {'class': 'txt-value'}).get_text()\n",
        "card"
      ],
      "metadata": {
        "colab": {
          "base_uri": "https://localhost:8080/"
        },
        "id": "M_D-LEvGtNBJ",
        "outputId": "d5455546-7680-491e-f2ed-2c4fafefaf31"
      },
      "execution_count": 15,
      "outputs": [
        {
          "output_type": "execute_result",
          "data": {
            "text/plain": [
              "{'value': 'R$ 338.000'}"
            ]
          },
          "metadata": {},
          "execution_count": 15
        }
      ]
    },
    {
      "cell_type": "code",
      "source": [
        "outrasInformacoes = anuncio.findAll('p')\n",
        "outrasInformacoes"
      ],
      "metadata": {
        "colab": {
          "base_uri": "https://localhost:8080/"
        },
        "id": "moc8kSM-tkeA",
        "outputId": "424b7e71-7959-48d0-9f7b-d338dccb09af"
      },
      "execution_count": 16,
      "outputs": [
        {
          "output_type": "execute_result",
          "data": {
            "text/plain": [
              "[<p class=\"txt-name inline\">LAMBORGHINI AVENTADOR</p>,\n",
              " <p class=\"txt-category badge badge-secondary inline\">USADO</p>,\n",
              " <p class=\"txt-motor\">Motor 1.8 16v</p>,\n",
              " <p class=\"txt-description\">Ano 1993 - 55.286 km</p>,\n",
              " <p class=\"txt-location\">Belo Horizonte - MG</p>,\n",
              " <p class=\"txt-value\">R$ 338.000</p>]"
            ]
          },
          "metadata": {},
          "execution_count": 16
        }
      ]
    },
    {
      "cell_type": "code",
      "source": [
        "infos = anuncio.find('div', { 'class': 'body-card'}).find_all('p')\n",
        "infos"
      ],
      "metadata": {
        "colab": {
          "base_uri": "https://localhost:8080/"
        },
        "id": "y-MnHbZzu5zK",
        "outputId": "580dda47-7eaf-4078-9c83-5629781cae9b"
      },
      "execution_count": 19,
      "outputs": [
        {
          "output_type": "execute_result",
          "data": {
            "text/plain": [
              "[<p class=\"txt-name inline\">LAMBORGHINI AVENTADOR</p>,\n",
              " <p class=\"txt-category badge badge-secondary inline\">USADO</p>,\n",
              " <p class=\"txt-motor\">Motor 1.8 16v</p>,\n",
              " <p class=\"txt-description\">Ano 1993 - 55.286 km</p>,\n",
              " <p class=\"txt-location\">Belo Horizonte - MG</p>]"
            ]
          },
          "metadata": {},
          "execution_count": 19
        }
      ]
    },
    {
      "cell_type": "code",
      "source": [
        "for info in infos:\n",
        "  print(info.get('class'))"
      ],
      "metadata": {
        "colab": {
          "base_uri": "https://localhost:8080/"
        },
        "id": "2bBbBS55vecM",
        "outputId": "e3b5e927-fc0f-434a-d5a7-e4bb58a89cfd"
      },
      "execution_count": 21,
      "outputs": [
        {
          "output_type": "stream",
          "name": "stdout",
          "text": [
            "['txt-name', 'inline']\n",
            "['txt-category', 'badge', 'badge-secondary', 'inline']\n",
            "['txt-motor']\n",
            "['txt-description']\n",
            "['txt-location']\n"
          ]
        }
      ]
    },
    {
      "cell_type": "code",
      "source": [
        "for info in infos:\n",
        "  print(info.get('class')[0], ' - ', info.get_text())"
      ],
      "metadata": {
        "colab": {
          "base_uri": "https://localhost:8080/"
        },
        "id": "y-hyOZj_vylM",
        "outputId": "271cb446-524d-48ec-ee0a-55fa5dde2249"
      },
      "execution_count": 23,
      "outputs": [
        {
          "output_type": "stream",
          "name": "stdout",
          "text": [
            "txt-name  -  LAMBORGHINI AVENTADOR\n",
            "txt-category  -  USADO\n",
            "txt-motor  -  Motor 1.8 16v\n",
            "txt-description  -  Ano 1993 - 55.286 km\n",
            "txt-location  -  Belo Horizonte - MG\n"
          ]
        }
      ]
    },
    {
      "cell_type": "code",
      "source": [
        "for info in infos:\n",
        "  print(info.get('class')[0].split('-'), ' - ', info.get_text())"
      ],
      "metadata": {
        "colab": {
          "base_uri": "https://localhost:8080/"
        },
        "id": "MwRSfjR4wV8t",
        "outputId": "4b71bcdd-2693-4d3d-ee8a-fd64d97cebda"
      },
      "execution_count": 25,
      "outputs": [
        {
          "output_type": "stream",
          "name": "stdout",
          "text": [
            "['txt', 'name']  -  LAMBORGHINI AVENTADOR\n",
            "['txt', 'category']  -  USADO\n",
            "['txt', 'motor']  -  Motor 1.8 16v\n",
            "['txt', 'description']  -  Ano 1993 - 55.286 km\n",
            "['txt', 'location']  -  Belo Horizonte - MG\n"
          ]
        }
      ]
    },
    {
      "cell_type": "code",
      "source": [
        "for info in infos:\n",
        "  print(info.get('class')[0].split('-')[1], ' - ', info.get_text())"
      ],
      "metadata": {
        "colab": {
          "base_uri": "https://localhost:8080/"
        },
        "id": "OnBUgFK7wrL1",
        "outputId": "fafd75dc-2ee7-4d8d-e3c1-1ce1f7d61295"
      },
      "execution_count": 26,
      "outputs": [
        {
          "output_type": "stream",
          "name": "stdout",
          "text": [
            "name  -  LAMBORGHINI AVENTADOR\n",
            "category  -  USADO\n",
            "motor  -  Motor 1.8 16v\n",
            "description  -  Ano 1993 - 55.286 km\n",
            "location  -  Belo Horizonte - MG\n"
          ]
        }
      ]
    },
    {
      "cell_type": "code",
      "source": [
        "for info in infos:\n",
        "  card[info.get('class')[0].split('-')[1]] =  info.get_text()\n",
        "\n",
        "card"
      ],
      "metadata": {
        "colab": {
          "base_uri": "https://localhost:8080/"
        },
        "id": "OOjxIrIXw2uW",
        "outputId": "5f60c672-2a89-4ca2-aed5-bfcddcd73055"
      },
      "execution_count": 28,
      "outputs": [
        {
          "output_type": "execute_result",
          "data": {
            "text/plain": [
              "{'value': 'R$ 338.000',\n",
              " 'name': 'LAMBORGHINI AVENTADOR',\n",
              " 'category': 'USADO',\n",
              " 'motor': 'Motor 1.8 16v',\n",
              " 'description': 'Ano 1993 - 55.286 km',\n",
              " 'location': 'Belo Horizonte - MG'}"
            ]
          },
          "metadata": {},
          "execution_count": 28
        }
      ]
    },
    {
      "cell_type": "code",
      "source": [],
      "metadata": {
        "id": "i3R60PY7xPEv"
      },
      "execution_count": null,
      "outputs": []
    },
    {
      "cell_type": "markdown",
      "source": [
        "Exercício"
      ],
      "metadata": {
        "id": "1wbQbUSnxpcQ"
      }
    },
    {
      "cell_type": "code",
      "source": [],
      "metadata": {
        "id": "bk4v9nV3xora"
      },
      "execution_count": null,
      "outputs": []
    },
    {
      "cell_type": "code",
      "source": [
        "from bs4 import BeautifulSoup\n",
        "\n",
        "html = \"\"\"\n",
        "    <html>\n",
        "        <body>\n",
        "            <div id=\"container-a\">\n",
        "                <h1>Curso de Web Scraping</h1>\n",
        "                <h3>Treinamento Alura</h3>\n",
        "                <p class=\"main descr\">Curso para ensinar técnicas de coleta de dados na web.</p>\n",
        "            </div>\n",
        "            <div id=\"tools\">\n",
        "                <p class=\"main lib-a\">BeautifulSoup</p>\n",
        "                <p class=\"libs\">findAll()</p>\n",
        "                <p class=\"libs\">getText()</p>\n",
        "                <p class=\"main lib-b\">urllib.request</p>\n",
        "                <p class=\"libs\">urlopen()</p>\n",
        "                <p class=\"main lib-c\">pandas</p>\n",
        "                <p class=\"libs\">DataFrame()</p>\n",
        "            </div>\n",
        "        </body>\n",
        "    </html>\n",
        "\"\"\"\n",
        "soup = BeautifulSoup(html, 'html.parser')"
      ],
      "metadata": {
        "id": "kXf7pABExotl"
      },
      "execution_count": 29,
      "outputs": []
    },
    {
      "cell_type": "code",
      "source": [
        "soup"
      ],
      "metadata": {
        "colab": {
          "base_uri": "https://localhost:8080/"
        },
        "id": "DUM4goZpxov5",
        "outputId": "74b8157e-eff8-4fe4-d1db-4526b6929b55"
      },
      "execution_count": 30,
      "outputs": [
        {
          "output_type": "execute_result",
          "data": {
            "text/plain": [
              "\n",
              "<html>\n",
              "<body>\n",
              "<div id=\"container-a\">\n",
              "<h1>Curso de Web Scraping</h1>\n",
              "<h3>Treinamento Alura</h3>\n",
              "<p class=\"main descr\">Curso para ensinar técnicas de coleta de dados na web.</p>\n",
              "</div>\n",
              "<div id=\"tools\">\n",
              "<p class=\"main lib-a\">BeautifulSoup</p>\n",
              "<p class=\"libs\">findAll()</p>\n",
              "<p class=\"libs\">getText()</p>\n",
              "<p class=\"main lib-b\">urllib.request</p>\n",
              "<p class=\"libs\">urlopen()</p>\n",
              "<p class=\"main lib-c\">pandas</p>\n",
              "<p class=\"libs\">DataFrame()</p>\n",
              "</div>\n",
              "</body>\n",
              "</html>"
            ]
          },
          "metadata": {},
          "execution_count": 30
        }
      ]
    },
    {
      "cell_type": "code",
      "source": [
        "items = soup.find('div', {'id': 'tools'}).findAll('p', {'class': ['lib-a', 'lib-b', 'lib-c']})\n",
        "for item in items:\n",
        "    print(item.getText())"
      ],
      "metadata": {
        "colab": {
          "base_uri": "https://localhost:8080/"
        },
        "id": "NuBgUxWrxoyc",
        "outputId": "86d0a650-3877-4614-9961-702fd5adab6c"
      },
      "execution_count": 31,
      "outputs": [
        {
          "output_type": "stream",
          "name": "stdout",
          "text": [
            "BeautifulSoup\n",
            "urllib.request\n",
            "pandas\n"
          ]
        }
      ]
    },
    {
      "cell_type": "code",
      "source": [
        "items = soup.find('div', {'id': 'tools'}).findAll('p', {'class': 'main'})\n",
        "for item in items:\n",
        "    print(item.getText())"
      ],
      "metadata": {
        "colab": {
          "base_uri": "https://localhost:8080/"
        },
        "id": "J6LjoN76xo3d",
        "outputId": "ccd808ad-301f-4278-9c52-fcf47602772b"
      },
      "execution_count": 32,
      "outputs": [
        {
          "output_type": "stream",
          "name": "stdout",
          "text": [
            "BeautifulSoup\n",
            "urllib.request\n",
            "pandas\n"
          ]
        }
      ]
    },
    {
      "cell_type": "code",
      "source": [
        "items = soup.findAll('p', {'class': 'main'})\n",
        "for item in items:\n",
        "    print(item.getText())"
      ],
      "metadata": {
        "colab": {
          "base_uri": "https://localhost:8080/"
        },
        "id": "usNZSlFQxo5_",
        "outputId": "f933bf91-085d-48a4-eb15-401b3ae8312c"
      },
      "execution_count": 33,
      "outputs": [
        {
          "output_type": "stream",
          "name": "stdout",
          "text": [
            "Curso para ensinar técnicas de coleta de dados na web.\n",
            "BeautifulSoup\n",
            "urllib.request\n",
            "pandas\n"
          ]
        }
      ]
    },
    {
      "cell_type": "code",
      "source": [
        "items = soup.find('div', {'id': 'tools'})('p', {'class': 'main'})\n",
        "for item in items:\n",
        "    print(item.getText())"
      ],
      "metadata": {
        "colab": {
          "base_uri": "https://localhost:8080/"
        },
        "id": "eK9W1g5ryM58",
        "outputId": "4cee2a50-98eb-46ae-beb9-4469f157fbc8"
      },
      "execution_count": 34,
      "outputs": [
        {
          "output_type": "stream",
          "name": "stdout",
          "text": [
            "BeautifulSoup\n",
            "urllib.request\n",
            "pandas\n"
          ]
        }
      ]
    },
    {
      "cell_type": "code",
      "source": [
        "anuncio"
      ],
      "metadata": {
        "colab": {
          "base_uri": "https://localhost:8080/"
        },
        "id": "ZpFZGabYyT8i",
        "outputId": "1d0ed88b-d405-4ea5-f5c7-47c62e228db9"
      },
      "execution_count": 35,
      "outputs": [
        {
          "output_type": "execute_result",
          "data": {
            "text/plain": [
              "<div class=\"well card\">\n",
              "<div class=\"col-md-3 image-card\">\n",
              "<img alt=\"Foto\" height=\"155\" src=\"https://caelum-online-public.s3.amazonaws.com/1381-scraping/01/img-cars/lamborghini-aventador/lamborghini-aventador-2932196__340.jpg\" width=\"220\"/>\n",
              "</div>\n",
              "<div class=\"col-md-6 body-card\">\n",
              "<p class=\"txt-name inline\">LAMBORGHINI AVENTADOR</p>\n",
              "<p class=\"txt-category badge badge-secondary inline\">USADO</p>\n",
              "<p class=\"txt-motor\">Motor 1.8 16v</p>\n",
              "<p class=\"txt-description\">Ano 1993 - 55.286 km</p>\n",
              "<ul class=\"lst-items\">\n",
              "<li class=\"txt-items\">► 4 X 4</li>\n",
              "<li class=\"txt-items\">► Câmera de estacionamento</li>\n",
              "<li class=\"txt-items\">► Controle de tração</li>\n",
              "<li class=\"txt-items\">► Sensor de estacionamento</li>\n",
              "<li class=\"txt-items\">...</li>\n",
              "</ul>\n",
              "<p class=\"txt-location\">Belo Horizonte - MG</p>\n",
              "</div>\n",
              "<div class=\"col-md-3 value-card\">\n",
              "<div class=\"value\">\n",
              "<p class=\"txt-value\">R$ 338.000</p>\n",
              "</div>\n",
              "</div>\n",
              "</div>"
            ]
          },
          "metadata": {},
          "execution_count": 35
        }
      ]
    },
    {
      "cell_type": "code",
      "source": [
        "anuncio.find('div', { 'class' : 'body-card'}).ul.findAll('li')"
      ],
      "metadata": {
        "colab": {
          "base_uri": "https://localhost:8080/"
        },
        "id": "0KFvRyw4yo-L",
        "outputId": "68da82e9-e298-4b76-a6e9-ce1129b8255b"
      },
      "execution_count": 44,
      "outputs": [
        {
          "output_type": "execute_result",
          "data": {
            "text/plain": [
              "[<li class=\"txt-items\">► 4 X 4</li>,\n",
              " <li class=\"txt-items\">► Câmera de estacionamento</li>,\n",
              " <li class=\"txt-items\">► Controle de tração</li>,\n",
              " <li class=\"txt-items\">► Sensor de estacionamento</li>,\n",
              " <li class=\"txt-items\">...</li>]"
            ]
          },
          "metadata": {},
          "execution_count": 44
        }
      ]
    },
    {
      "cell_type": "code",
      "source": [
        "itens = anuncio.find('div', { 'class' : 'body-card'}).ul.findAll('li')\n",
        "itens"
      ],
      "metadata": {
        "colab": {
          "base_uri": "https://localhost:8080/"
        },
        "id": "GiQEeb7yysyb",
        "outputId": "a43623eb-d507-4d59-cdc3-8d690d7ccfec"
      },
      "execution_count": 48,
      "outputs": [
        {
          "output_type": "execute_result",
          "data": {
            "text/plain": [
              "[<li class=\"txt-items\">► 4 X 4</li>,\n",
              " <li class=\"txt-items\">► Câmera de estacionamento</li>,\n",
              " <li class=\"txt-items\">► Controle de tração</li>,\n",
              " <li class=\"txt-items\">► Sensor de estacionamento</li>,\n",
              " <li class=\"txt-items\">...</li>]"
            ]
          },
          "metadata": {},
          "execution_count": 48
        }
      ]
    },
    {
      "cell_type": "code",
      "source": [
        "# pop() retira o último item de uma lista\n",
        "itens.pop()\n",
        "itens"
      ],
      "metadata": {
        "colab": {
          "base_uri": "https://localhost:8080/"
        },
        "id": "cULm3NNLztg0",
        "outputId": "ee185109-6859-478f-9d4e-ab0f1a125451"
      },
      "execution_count": 49,
      "outputs": [
        {
          "output_type": "execute_result",
          "data": {
            "text/plain": [
              "[<li class=\"txt-items\">► 4 X 4</li>,\n",
              " <li class=\"txt-items\">► Câmera de estacionamento</li>,\n",
              " <li class=\"txt-items\">► Controle de tração</li>,\n",
              " <li class=\"txt-items\">► Sensor de estacionamento</li>]"
            ]
          },
          "metadata": {},
          "execution_count": 49
        }
      ]
    },
    {
      "cell_type": "code",
      "source": [
        "for item in itens:\n",
        "  print(item.getText())"
      ],
      "metadata": {
        "colab": {
          "base_uri": "https://localhost:8080/"
        },
        "id": "KxGHeEUiz16z",
        "outputId": "3735cd3b-bdd4-4c89-dfa8-bf79a70d57ac"
      },
      "execution_count": 51,
      "outputs": [
        {
          "output_type": "stream",
          "name": "stdout",
          "text": [
            "► 4 X 4\n",
            "► Câmera de estacionamento\n",
            "► Controle de tração\n",
            "► Sensor de estacionamento\n"
          ]
        }
      ]
    },
    {
      "cell_type": "code",
      "source": [
        "for item in itens:\n",
        "  print(item.getText().replace('► ', ''))"
      ],
      "metadata": {
        "colab": {
          "base_uri": "https://localhost:8080/"
        },
        "id": "3R93lcoa0EPa",
        "outputId": "1b79ea53-e6df-43a1-de4c-6f13f31dc527"
      },
      "execution_count": 52,
      "outputs": [
        {
          "output_type": "stream",
          "name": "stdout",
          "text": [
            "4 X 4\n",
            "Câmera de estacionamento\n",
            "Controle de tração\n",
            "Sensor de estacionamento\n"
          ]
        }
      ]
    },
    {
      "cell_type": "code",
      "source": [
        "acessorios = []\n",
        "for item in itens:\n",
        "  acessorios.append(item.getText().replace('► ', ''))\n",
        "acessorios"
      ],
      "metadata": {
        "colab": {
          "base_uri": "https://localhost:8080/"
        },
        "id": "MjWzR0JK0Zqc",
        "outputId": "8fc0777a-7262-453c-c560-43490f9ec5e0"
      },
      "execution_count": 54,
      "outputs": [
        {
          "output_type": "execute_result",
          "data": {
            "text/plain": [
              "['4 X 4',\n",
              " 'Câmera de estacionamento',\n",
              " 'Controle de tração',\n",
              " 'Sensor de estacionamento']"
            ]
          },
          "metadata": {},
          "execution_count": 54
        }
      ]
    },
    {
      "cell_type": "code",
      "source": [
        "card['itens'] = acessorios\n",
        "card\n"
      ],
      "metadata": {
        "colab": {
          "base_uri": "https://localhost:8080/"
        },
        "id": "qVNNukLG0fJO",
        "outputId": "5ef91810-cde2-4211-c9b3-74111860fae2"
      },
      "execution_count": 55,
      "outputs": [
        {
          "output_type": "execute_result",
          "data": {
            "text/plain": [
              "{'value': 'R$ 338.000',\n",
              " 'name': 'LAMBORGHINI AVENTADOR',\n",
              " 'category': 'USADO',\n",
              " 'motor': 'Motor 1.8 16v',\n",
              " 'description': 'Ano 1993 - 55.286 km',\n",
              " 'location': 'Belo Horizonte - MG',\n",
              " 'itens': ['4 X 4',\n",
              "  'Câmera de estacionamento',\n",
              "  'Controle de tração',\n",
              "  'Sensor de estacionamento']}"
            ]
          },
          "metadata": {},
          "execution_count": 55
        }
      ]
    },
    {
      "cell_type": "code",
      "source": [],
      "metadata": {
        "id": "a4at4tiX06Ui"
      },
      "execution_count": null,
      "outputs": []
    },
    {
      "cell_type": "markdown",
      "source": [
        "Exercício 02"
      ],
      "metadata": {
        "id": "PYVL-NB31S9J"
      }
    },
    {
      "cell_type": "code",
      "source": [
        "from bs4 import BeautifulSoup\n",
        "\n",
        "html = \"\"\"\n",
        "    <html>\n",
        "        <body>\n",
        "            <ul>\n",
        "                <li>Abertura</li>\n",
        "                <li>10%</li>\n",
        "                <li>11%</li>\n",
        "                <li>10.5%</li>\n",
        "                <li>9%</li>\n",
        "                <li>Fechamento</li>\n",
        "            </ul>\n",
        "        </body>\n",
        "    </html>\n",
        "\"\"\"\n",
        "soup = BeautifulSoup(html, 'html.parser')"
      ],
      "metadata": {
        "id": "km1QW89_1UQF"
      },
      "execution_count": 56,
      "outputs": []
    },
    {
      "cell_type": "code",
      "source": [
        "valores = soup.ul('li')\n",
        "valores.pop(0)\n",
        "valores.pop()\n",
        "valores"
      ],
      "metadata": {
        "colab": {
          "base_uri": "https://localhost:8080/"
        },
        "id": "jve0rmXm1X6J",
        "outputId": "15cf7891-6a5c-4c2d-a2da-c9ff98ece253"
      },
      "execution_count": 64,
      "outputs": [
        {
          "output_type": "execute_result",
          "data": {
            "text/plain": [
              "[<li>10%</li>, <li>11%</li>, <li>10.5%</li>, <li>9%</li>]"
            ]
          },
          "metadata": {},
          "execution_count": 64
        }
      ]
    },
    {
      "cell_type": "code",
      "source": [
        "card"
      ],
      "metadata": {
        "colab": {
          "base_uri": "https://localhost:8080/"
        },
        "id": "yO5LyFx61smm",
        "outputId": "d983e3d3-a4ec-4cb5-e217-a5e0df8d61aa"
      },
      "execution_count": 65,
      "outputs": [
        {
          "output_type": "execute_result",
          "data": {
            "text/plain": [
              "{'value': 'R$ 338.000',\n",
              " 'name': 'LAMBORGHINI AVENTADOR',\n",
              " 'category': 'USADO',\n",
              " 'motor': 'Motor 1.8 16v',\n",
              " 'description': 'Ano 1993 - 55.286 km',\n",
              " 'location': 'Belo Horizonte - MG',\n",
              " 'itens': ['4 X 4',\n",
              "  'Câmera de estacionamento',\n",
              "  'Controle de tração',\n",
              "  'Sensor de estacionamento']}"
            ]
          },
          "metadata": {},
          "execution_count": 65
        }
      ]
    },
    {
      "cell_type": "code",
      "source": [
        "import pandas as pd"
      ],
      "metadata": {
        "id": "9pEUKfDX2fdB"
      },
      "execution_count": 66,
      "outputs": []
    },
    {
      "cell_type": "code",
      "source": [
        "# Errado:\n",
        "dataset = pd.DataFrame(card)\n",
        "dataset"
      ],
      "metadata": {
        "colab": {
          "base_uri": "https://localhost:8080/",
          "height": 217
        },
        "id": "da1hFmv52ib5",
        "outputId": "67ef3ea9-3edb-487d-cdee-0ea01bd68218"
      },
      "execution_count": 68,
      "outputs": [
        {
          "output_type": "execute_result",
          "data": {
            "text/plain": [
              "        value                   name category          motor  \\\n",
              "0  R$ 338.000  LAMBORGHINI AVENTADOR    USADO  Motor 1.8 16v   \n",
              "1  R$ 338.000  LAMBORGHINI AVENTADOR    USADO  Motor 1.8 16v   \n",
              "2  R$ 338.000  LAMBORGHINI AVENTADOR    USADO  Motor 1.8 16v   \n",
              "3  R$ 338.000  LAMBORGHINI AVENTADOR    USADO  Motor 1.8 16v   \n",
              "\n",
              "            description             location                     itens  \n",
              "0  Ano 1993 - 55.286 km  Belo Horizonte - MG                     4 X 4  \n",
              "1  Ano 1993 - 55.286 km  Belo Horizonte - MG  Câmera de estacionamento  \n",
              "2  Ano 1993 - 55.286 km  Belo Horizonte - MG        Controle de tração  \n",
              "3  Ano 1993 - 55.286 km  Belo Horizonte - MG  Sensor de estacionamento  "
            ],
            "text/html": [
              "\n",
              "  <div id=\"df-46f5103c-37ef-4bcb-b9df-a8e234e2cb41\">\n",
              "    <div class=\"colab-df-container\">\n",
              "      <div>\n",
              "<style scoped>\n",
              "    .dataframe tbody tr th:only-of-type {\n",
              "        vertical-align: middle;\n",
              "    }\n",
              "\n",
              "    .dataframe tbody tr th {\n",
              "        vertical-align: top;\n",
              "    }\n",
              "\n",
              "    .dataframe thead th {\n",
              "        text-align: right;\n",
              "    }\n",
              "</style>\n",
              "<table border=\"1\" class=\"dataframe\">\n",
              "  <thead>\n",
              "    <tr style=\"text-align: right;\">\n",
              "      <th></th>\n",
              "      <th>value</th>\n",
              "      <th>name</th>\n",
              "      <th>category</th>\n",
              "      <th>motor</th>\n",
              "      <th>description</th>\n",
              "      <th>location</th>\n",
              "      <th>itens</th>\n",
              "    </tr>\n",
              "  </thead>\n",
              "  <tbody>\n",
              "    <tr>\n",
              "      <th>0</th>\n",
              "      <td>R$ 338.000</td>\n",
              "      <td>LAMBORGHINI AVENTADOR</td>\n",
              "      <td>USADO</td>\n",
              "      <td>Motor 1.8 16v</td>\n",
              "      <td>Ano 1993 - 55.286 km</td>\n",
              "      <td>Belo Horizonte - MG</td>\n",
              "      <td>4 X 4</td>\n",
              "    </tr>\n",
              "    <tr>\n",
              "      <th>1</th>\n",
              "      <td>R$ 338.000</td>\n",
              "      <td>LAMBORGHINI AVENTADOR</td>\n",
              "      <td>USADO</td>\n",
              "      <td>Motor 1.8 16v</td>\n",
              "      <td>Ano 1993 - 55.286 km</td>\n",
              "      <td>Belo Horizonte - MG</td>\n",
              "      <td>Câmera de estacionamento</td>\n",
              "    </tr>\n",
              "    <tr>\n",
              "      <th>2</th>\n",
              "      <td>R$ 338.000</td>\n",
              "      <td>LAMBORGHINI AVENTADOR</td>\n",
              "      <td>USADO</td>\n",
              "      <td>Motor 1.8 16v</td>\n",
              "      <td>Ano 1993 - 55.286 km</td>\n",
              "      <td>Belo Horizonte - MG</td>\n",
              "      <td>Controle de tração</td>\n",
              "    </tr>\n",
              "    <tr>\n",
              "      <th>3</th>\n",
              "      <td>R$ 338.000</td>\n",
              "      <td>LAMBORGHINI AVENTADOR</td>\n",
              "      <td>USADO</td>\n",
              "      <td>Motor 1.8 16v</td>\n",
              "      <td>Ano 1993 - 55.286 km</td>\n",
              "      <td>Belo Horizonte - MG</td>\n",
              "      <td>Sensor de estacionamento</td>\n",
              "    </tr>\n",
              "  </tbody>\n",
              "</table>\n",
              "</div>\n",
              "      <button class=\"colab-df-convert\" onclick=\"convertToInteractive('df-46f5103c-37ef-4bcb-b9df-a8e234e2cb41')\"\n",
              "              title=\"Convert this dataframe to an interactive table.\"\n",
              "              style=\"display:none;\">\n",
              "        \n",
              "  <svg xmlns=\"http://www.w3.org/2000/svg\" height=\"24px\"viewBox=\"0 0 24 24\"\n",
              "       width=\"24px\">\n",
              "    <path d=\"M0 0h24v24H0V0z\" fill=\"none\"/>\n",
              "    <path d=\"M18.56 5.44l.94 2.06.94-2.06 2.06-.94-2.06-.94-.94-2.06-.94 2.06-2.06.94zm-11 1L8.5 8.5l.94-2.06 2.06-.94-2.06-.94L8.5 2.5l-.94 2.06-2.06.94zm10 10l.94 2.06.94-2.06 2.06-.94-2.06-.94-.94-2.06-.94 2.06-2.06.94z\"/><path d=\"M17.41 7.96l-1.37-1.37c-.4-.4-.92-.59-1.43-.59-.52 0-1.04.2-1.43.59L10.3 9.45l-7.72 7.72c-.78.78-.78 2.05 0 2.83L4 21.41c.39.39.9.59 1.41.59.51 0 1.02-.2 1.41-.59l7.78-7.78 2.81-2.81c.8-.78.8-2.07 0-2.86zM5.41 20L4 18.59l7.72-7.72 1.47 1.35L5.41 20z\"/>\n",
              "  </svg>\n",
              "      </button>\n",
              "      \n",
              "  <style>\n",
              "    .colab-df-container {\n",
              "      display:flex;\n",
              "      flex-wrap:wrap;\n",
              "      gap: 12px;\n",
              "    }\n",
              "\n",
              "    .colab-df-convert {\n",
              "      background-color: #E8F0FE;\n",
              "      border: none;\n",
              "      border-radius: 50%;\n",
              "      cursor: pointer;\n",
              "      display: none;\n",
              "      fill: #1967D2;\n",
              "      height: 32px;\n",
              "      padding: 0 0 0 0;\n",
              "      width: 32px;\n",
              "    }\n",
              "\n",
              "    .colab-df-convert:hover {\n",
              "      background-color: #E2EBFA;\n",
              "      box-shadow: 0px 1px 2px rgba(60, 64, 67, 0.3), 0px 1px 3px 1px rgba(60, 64, 67, 0.15);\n",
              "      fill: #174EA6;\n",
              "    }\n",
              "\n",
              "    [theme=dark] .colab-df-convert {\n",
              "      background-color: #3B4455;\n",
              "      fill: #D2E3FC;\n",
              "    }\n",
              "\n",
              "    [theme=dark] .colab-df-convert:hover {\n",
              "      background-color: #434B5C;\n",
              "      box-shadow: 0px 1px 3px 1px rgba(0, 0, 0, 0.15);\n",
              "      filter: drop-shadow(0px 1px 2px rgba(0, 0, 0, 0.3));\n",
              "      fill: #FFFFFF;\n",
              "    }\n",
              "  </style>\n",
              "\n",
              "      <script>\n",
              "        const buttonEl =\n",
              "          document.querySelector('#df-46f5103c-37ef-4bcb-b9df-a8e234e2cb41 button.colab-df-convert');\n",
              "        buttonEl.style.display =\n",
              "          google.colab.kernel.accessAllowed ? 'block' : 'none';\n",
              "\n",
              "        async function convertToInteractive(key) {\n",
              "          const element = document.querySelector('#df-46f5103c-37ef-4bcb-b9df-a8e234e2cb41');\n",
              "          const dataTable =\n",
              "            await google.colab.kernel.invokeFunction('convertToInteractive',\n",
              "                                                     [key], {});\n",
              "          if (!dataTable) return;\n",
              "\n",
              "          const docLinkHtml = 'Like what you see? Visit the ' +\n",
              "            '<a target=\"_blank\" href=https://colab.research.google.com/notebooks/data_table.ipynb>data table notebook</a>'\n",
              "            + ' to learn more about interactive tables.';\n",
              "          element.innerHTML = '';\n",
              "          dataTable['output_type'] = 'display_data';\n",
              "          await google.colab.output.renderOutput(dataTable, element);\n",
              "          const docLink = document.createElement('div');\n",
              "          docLink.innerHTML = docLinkHtml;\n",
              "          element.appendChild(docLink);\n",
              "        }\n",
              "      </script>\n",
              "    </div>\n",
              "  </div>\n",
              "  "
            ]
          },
          "metadata": {},
          "execution_count": 68
        }
      ]
    },
    {
      "cell_type": "code",
      "source": [
        "dataset = pd.DataFrame.from_dict(card, orient = 'index')\n",
        "dataset"
      ],
      "metadata": {
        "colab": {
          "base_uri": "https://localhost:8080/",
          "height": 266
        },
        "id": "wQIw792c2nu7",
        "outputId": "8e7e3022-4c91-4c4b-e6c6-f8d24c4d4762"
      },
      "execution_count": 70,
      "outputs": [
        {
          "output_type": "execute_result",
          "data": {
            "text/plain": [
              "                                                             0\n",
              "value                                               R$ 338.000\n",
              "name                                     LAMBORGHINI AVENTADOR\n",
              "category                                                 USADO\n",
              "motor                                            Motor 1.8 16v\n",
              "description                               Ano 1993 - 55.286 km\n",
              "location                                   Belo Horizonte - MG\n",
              "itens        [4 X 4, Câmera de estacionamento, Controle de ..."
            ],
            "text/html": [
              "\n",
              "  <div id=\"df-3d0b0361-21fc-4e7b-81d6-ac6530b8f614\">\n",
              "    <div class=\"colab-df-container\">\n",
              "      <div>\n",
              "<style scoped>\n",
              "    .dataframe tbody tr th:only-of-type {\n",
              "        vertical-align: middle;\n",
              "    }\n",
              "\n",
              "    .dataframe tbody tr th {\n",
              "        vertical-align: top;\n",
              "    }\n",
              "\n",
              "    .dataframe thead th {\n",
              "        text-align: right;\n",
              "    }\n",
              "</style>\n",
              "<table border=\"1\" class=\"dataframe\">\n",
              "  <thead>\n",
              "    <tr style=\"text-align: right;\">\n",
              "      <th></th>\n",
              "      <th>0</th>\n",
              "    </tr>\n",
              "  </thead>\n",
              "  <tbody>\n",
              "    <tr>\n",
              "      <th>value</th>\n",
              "      <td>R$ 338.000</td>\n",
              "    </tr>\n",
              "    <tr>\n",
              "      <th>name</th>\n",
              "      <td>LAMBORGHINI AVENTADOR</td>\n",
              "    </tr>\n",
              "    <tr>\n",
              "      <th>category</th>\n",
              "      <td>USADO</td>\n",
              "    </tr>\n",
              "    <tr>\n",
              "      <th>motor</th>\n",
              "      <td>Motor 1.8 16v</td>\n",
              "    </tr>\n",
              "    <tr>\n",
              "      <th>description</th>\n",
              "      <td>Ano 1993 - 55.286 km</td>\n",
              "    </tr>\n",
              "    <tr>\n",
              "      <th>location</th>\n",
              "      <td>Belo Horizonte - MG</td>\n",
              "    </tr>\n",
              "    <tr>\n",
              "      <th>itens</th>\n",
              "      <td>[4 X 4, Câmera de estacionamento, Controle de ...</td>\n",
              "    </tr>\n",
              "  </tbody>\n",
              "</table>\n",
              "</div>\n",
              "      <button class=\"colab-df-convert\" onclick=\"convertToInteractive('df-3d0b0361-21fc-4e7b-81d6-ac6530b8f614')\"\n",
              "              title=\"Convert this dataframe to an interactive table.\"\n",
              "              style=\"display:none;\">\n",
              "        \n",
              "  <svg xmlns=\"http://www.w3.org/2000/svg\" height=\"24px\"viewBox=\"0 0 24 24\"\n",
              "       width=\"24px\">\n",
              "    <path d=\"M0 0h24v24H0V0z\" fill=\"none\"/>\n",
              "    <path d=\"M18.56 5.44l.94 2.06.94-2.06 2.06-.94-2.06-.94-.94-2.06-.94 2.06-2.06.94zm-11 1L8.5 8.5l.94-2.06 2.06-.94-2.06-.94L8.5 2.5l-.94 2.06-2.06.94zm10 10l.94 2.06.94-2.06 2.06-.94-2.06-.94-.94-2.06-.94 2.06-2.06.94z\"/><path d=\"M17.41 7.96l-1.37-1.37c-.4-.4-.92-.59-1.43-.59-.52 0-1.04.2-1.43.59L10.3 9.45l-7.72 7.72c-.78.78-.78 2.05 0 2.83L4 21.41c.39.39.9.59 1.41.59.51 0 1.02-.2 1.41-.59l7.78-7.78 2.81-2.81c.8-.78.8-2.07 0-2.86zM5.41 20L4 18.59l7.72-7.72 1.47 1.35L5.41 20z\"/>\n",
              "  </svg>\n",
              "      </button>\n",
              "      \n",
              "  <style>\n",
              "    .colab-df-container {\n",
              "      display:flex;\n",
              "      flex-wrap:wrap;\n",
              "      gap: 12px;\n",
              "    }\n",
              "\n",
              "    .colab-df-convert {\n",
              "      background-color: #E8F0FE;\n",
              "      border: none;\n",
              "      border-radius: 50%;\n",
              "      cursor: pointer;\n",
              "      display: none;\n",
              "      fill: #1967D2;\n",
              "      height: 32px;\n",
              "      padding: 0 0 0 0;\n",
              "      width: 32px;\n",
              "    }\n",
              "\n",
              "    .colab-df-convert:hover {\n",
              "      background-color: #E2EBFA;\n",
              "      box-shadow: 0px 1px 2px rgba(60, 64, 67, 0.3), 0px 1px 3px 1px rgba(60, 64, 67, 0.15);\n",
              "      fill: #174EA6;\n",
              "    }\n",
              "\n",
              "    [theme=dark] .colab-df-convert {\n",
              "      background-color: #3B4455;\n",
              "      fill: #D2E3FC;\n",
              "    }\n",
              "\n",
              "    [theme=dark] .colab-df-convert:hover {\n",
              "      background-color: #434B5C;\n",
              "      box-shadow: 0px 1px 3px 1px rgba(0, 0, 0, 0.15);\n",
              "      filter: drop-shadow(0px 1px 2px rgba(0, 0, 0, 0.3));\n",
              "      fill: #FFFFFF;\n",
              "    }\n",
              "  </style>\n",
              "\n",
              "      <script>\n",
              "        const buttonEl =\n",
              "          document.querySelector('#df-3d0b0361-21fc-4e7b-81d6-ac6530b8f614 button.colab-df-convert');\n",
              "        buttonEl.style.display =\n",
              "          google.colab.kernel.accessAllowed ? 'block' : 'none';\n",
              "\n",
              "        async function convertToInteractive(key) {\n",
              "          const element = document.querySelector('#df-3d0b0361-21fc-4e7b-81d6-ac6530b8f614');\n",
              "          const dataTable =\n",
              "            await google.colab.kernel.invokeFunction('convertToInteractive',\n",
              "                                                     [key], {});\n",
              "          if (!dataTable) return;\n",
              "\n",
              "          const docLinkHtml = 'Like what you see? Visit the ' +\n",
              "            '<a target=\"_blank\" href=https://colab.research.google.com/notebooks/data_table.ipynb>data table notebook</a>'\n",
              "            + ' to learn more about interactive tables.';\n",
              "          element.innerHTML = '';\n",
              "          dataTable['output_type'] = 'display_data';\n",
              "          await google.colab.output.renderOutput(dataTable, element);\n",
              "          const docLink = document.createElement('div');\n",
              "          docLink.innerHTML = docLinkHtml;\n",
              "          element.appendChild(docLink);\n",
              "        }\n",
              "      </script>\n",
              "    </div>\n",
              "  </div>\n",
              "  "
            ]
          },
          "metadata": {},
          "execution_count": 70
        }
      ]
    },
    {
      "cell_type": "code",
      "source": [
        "# T para transpor linhas em colunas\n",
        "# Lembre-se que a propriedade T, que é uma forma de acessar o método transpose(),\n",
        "# transforma linha em colunas e vice-versa.\n",
        "dataset = pd.DataFrame.from_dict(card, orient = 'index').T\n",
        "dataset"
      ],
      "metadata": {
        "colab": {
          "base_uri": "https://localhost:8080/",
          "height": 141
        },
        "id": "F67nwv7i269_",
        "outputId": "1d9b1225-fe06-4123-c7c7-c6c353b34679"
      },
      "execution_count": 71,
      "outputs": [
        {
          "output_type": "execute_result",
          "data": {
            "text/plain": [
              "        value                   name category          motor  \\\n",
              "0  R$ 338.000  LAMBORGHINI AVENTADOR    USADO  Motor 1.8 16v   \n",
              "\n",
              "            description             location  \\\n",
              "0  Ano 1993 - 55.286 km  Belo Horizonte - MG   \n",
              "\n",
              "                                               itens  \n",
              "0  [4 X 4, Câmera de estacionamento, Controle de ...  "
            ],
            "text/html": [
              "\n",
              "  <div id=\"df-376fab5b-0b4c-4144-bf4b-e3e98ecc4207\">\n",
              "    <div class=\"colab-df-container\">\n",
              "      <div>\n",
              "<style scoped>\n",
              "    .dataframe tbody tr th:only-of-type {\n",
              "        vertical-align: middle;\n",
              "    }\n",
              "\n",
              "    .dataframe tbody tr th {\n",
              "        vertical-align: top;\n",
              "    }\n",
              "\n",
              "    .dataframe thead th {\n",
              "        text-align: right;\n",
              "    }\n",
              "</style>\n",
              "<table border=\"1\" class=\"dataframe\">\n",
              "  <thead>\n",
              "    <tr style=\"text-align: right;\">\n",
              "      <th></th>\n",
              "      <th>value</th>\n",
              "      <th>name</th>\n",
              "      <th>category</th>\n",
              "      <th>motor</th>\n",
              "      <th>description</th>\n",
              "      <th>location</th>\n",
              "      <th>itens</th>\n",
              "    </tr>\n",
              "  </thead>\n",
              "  <tbody>\n",
              "    <tr>\n",
              "      <th>0</th>\n",
              "      <td>R$ 338.000</td>\n",
              "      <td>LAMBORGHINI AVENTADOR</td>\n",
              "      <td>USADO</td>\n",
              "      <td>Motor 1.8 16v</td>\n",
              "      <td>Ano 1993 - 55.286 km</td>\n",
              "      <td>Belo Horizonte - MG</td>\n",
              "      <td>[4 X 4, Câmera de estacionamento, Controle de ...</td>\n",
              "    </tr>\n",
              "  </tbody>\n",
              "</table>\n",
              "</div>\n",
              "      <button class=\"colab-df-convert\" onclick=\"convertToInteractive('df-376fab5b-0b4c-4144-bf4b-e3e98ecc4207')\"\n",
              "              title=\"Convert this dataframe to an interactive table.\"\n",
              "              style=\"display:none;\">\n",
              "        \n",
              "  <svg xmlns=\"http://www.w3.org/2000/svg\" height=\"24px\"viewBox=\"0 0 24 24\"\n",
              "       width=\"24px\">\n",
              "    <path d=\"M0 0h24v24H0V0z\" fill=\"none\"/>\n",
              "    <path d=\"M18.56 5.44l.94 2.06.94-2.06 2.06-.94-2.06-.94-.94-2.06-.94 2.06-2.06.94zm-11 1L8.5 8.5l.94-2.06 2.06-.94-2.06-.94L8.5 2.5l-.94 2.06-2.06.94zm10 10l.94 2.06.94-2.06 2.06-.94-2.06-.94-.94-2.06-.94 2.06-2.06.94z\"/><path d=\"M17.41 7.96l-1.37-1.37c-.4-.4-.92-.59-1.43-.59-.52 0-1.04.2-1.43.59L10.3 9.45l-7.72 7.72c-.78.78-.78 2.05 0 2.83L4 21.41c.39.39.9.59 1.41.59.51 0 1.02-.2 1.41-.59l7.78-7.78 2.81-2.81c.8-.78.8-2.07 0-2.86zM5.41 20L4 18.59l7.72-7.72 1.47 1.35L5.41 20z\"/>\n",
              "  </svg>\n",
              "      </button>\n",
              "      \n",
              "  <style>\n",
              "    .colab-df-container {\n",
              "      display:flex;\n",
              "      flex-wrap:wrap;\n",
              "      gap: 12px;\n",
              "    }\n",
              "\n",
              "    .colab-df-convert {\n",
              "      background-color: #E8F0FE;\n",
              "      border: none;\n",
              "      border-radius: 50%;\n",
              "      cursor: pointer;\n",
              "      display: none;\n",
              "      fill: #1967D2;\n",
              "      height: 32px;\n",
              "      padding: 0 0 0 0;\n",
              "      width: 32px;\n",
              "    }\n",
              "\n",
              "    .colab-df-convert:hover {\n",
              "      background-color: #E2EBFA;\n",
              "      box-shadow: 0px 1px 2px rgba(60, 64, 67, 0.3), 0px 1px 3px 1px rgba(60, 64, 67, 0.15);\n",
              "      fill: #174EA6;\n",
              "    }\n",
              "\n",
              "    [theme=dark] .colab-df-convert {\n",
              "      background-color: #3B4455;\n",
              "      fill: #D2E3FC;\n",
              "    }\n",
              "\n",
              "    [theme=dark] .colab-df-convert:hover {\n",
              "      background-color: #434B5C;\n",
              "      box-shadow: 0px 1px 3px 1px rgba(0, 0, 0, 0.15);\n",
              "      filter: drop-shadow(0px 1px 2px rgba(0, 0, 0, 0.3));\n",
              "      fill: #FFFFFF;\n",
              "    }\n",
              "  </style>\n",
              "\n",
              "      <script>\n",
              "        const buttonEl =\n",
              "          document.querySelector('#df-376fab5b-0b4c-4144-bf4b-e3e98ecc4207 button.colab-df-convert');\n",
              "        buttonEl.style.display =\n",
              "          google.colab.kernel.accessAllowed ? 'block' : 'none';\n",
              "\n",
              "        async function convertToInteractive(key) {\n",
              "          const element = document.querySelector('#df-376fab5b-0b4c-4144-bf4b-e3e98ecc4207');\n",
              "          const dataTable =\n",
              "            await google.colab.kernel.invokeFunction('convertToInteractive',\n",
              "                                                     [key], {});\n",
              "          if (!dataTable) return;\n",
              "\n",
              "          const docLinkHtml = 'Like what you see? Visit the ' +\n",
              "            '<a target=\"_blank\" href=https://colab.research.google.com/notebooks/data_table.ipynb>data table notebook</a>'\n",
              "            + ' to learn more about interactive tables.';\n",
              "          element.innerHTML = '';\n",
              "          dataTable['output_type'] = 'display_data';\n",
              "          await google.colab.output.renderOutput(dataTable, element);\n",
              "          const docLink = document.createElement('div');\n",
              "          docLink.innerHTML = docLinkHtml;\n",
              "          element.appendChild(docLink);\n",
              "        }\n",
              "      </script>\n",
              "    </div>\n",
              "  </div>\n",
              "  "
            ]
          },
          "metadata": {},
          "execution_count": 71
        }
      ]
    },
    {
      "cell_type": "code",
      "source": [
        "dataset.to_csv('dataset.csv', sep =';', index = False, encoding='utf-8-sig')"
      ],
      "metadata": {
        "id": "zxpoJWFW3IjQ"
      },
      "execution_count": 72,
      "outputs": []
    },
    {
      "cell_type": "code",
      "source": [
        "anuncio.find('div').img"
      ],
      "metadata": {
        "colab": {
          "base_uri": "https://localhost:8080/"
        },
        "id": "FyjJTfwV3fdG",
        "outputId": "0cc6517a-bd59-40f4-b6e4-bf870145430c"
      },
      "execution_count": 74,
      "outputs": [
        {
          "output_type": "execute_result",
          "data": {
            "text/plain": [
              "<img alt=\"Foto\" height=\"155\" src=\"https://caelum-online-public.s3.amazonaws.com/1381-scraping/01/img-cars/lamborghini-aventador/lamborghini-aventador-2932196__340.jpg\" width=\"220\"/>"
            ]
          },
          "metadata": {},
          "execution_count": 74
        }
      ]
    },
    {
      "cell_type": "code",
      "source": [
        "image = anuncio.find('div', {'class': 'image-card'}).img\n",
        "image"
      ],
      "metadata": {
        "colab": {
          "base_uri": "https://localhost:8080/"
        },
        "id": "W2O1lBJo4VEn",
        "outputId": "7842ab9a-bdb7-4df5-a075-436f2acfa9e3"
      },
      "execution_count": 78,
      "outputs": [
        {
          "output_type": "execute_result",
          "data": {
            "text/plain": [
              "<img alt=\"Foto\" height=\"155\" src=\"https://caelum-online-public.s3.amazonaws.com/1381-scraping/01/img-cars/lamborghini-aventador/lamborghini-aventador-2932196__340.jpg\" width=\"220\"/>"
            ]
          },
          "metadata": {},
          "execution_count": 78
        }
      ]
    },
    {
      "cell_type": "code",
      "source": [
        "image.get('src')"
      ],
      "metadata": {
        "colab": {
          "base_uri": "https://localhost:8080/",
          "height": 54
        },
        "id": "-m_NGhuM4iEy",
        "outputId": "f5e50ef1-c9a0-4f55-9ac6-56f9cffd15f6"
      },
      "execution_count": 79,
      "outputs": [
        {
          "output_type": "execute_result",
          "data": {
            "text/plain": [
              "'https://caelum-online-public.s3.amazonaws.com/1381-scraping/01/img-cars/lamborghini-aventador/lamborghini-aventador-2932196__340.jpg'"
            ],
            "application/vnd.google.colaboratory.intrinsic+json": {
              "type": "string"
            }
          },
          "metadata": {},
          "execution_count": 79
        }
      ]
    },
    {
      "cell_type": "code",
      "source": [
        "from IPython.core.display import display, HTML\n",
        "display(HTML(str(anuncio.find('div', {'class': 'image-card'}).img)))"
      ],
      "metadata": {
        "colab": {
          "base_uri": "https://localhost:8080/",
          "height": 176
        },
        "id": "MX0epXix41FO",
        "outputId": "062e890e-5656-4611-9b9a-07e787aea8c2"
      },
      "execution_count": 81,
      "outputs": [
        {
          "output_type": "display_data",
          "data": {
            "text/plain": [
              "<IPython.core.display.HTML object>"
            ],
            "text/html": [
              "<img alt=\"Foto\" height=\"155\" src=\"https://caelum-online-public.s3.amazonaws.com/1381-scraping/01/img-cars/lamborghini-aventador/lamborghini-aventador-2932196__340.jpg\" width=\"220\"/>"
            ]
          },
          "metadata": {}
        }
      ]
    },
    {
      "cell_type": "code",
      "source": [
        "display(HTML(\"<img src=\" + anuncio.find('div', {'class':'image-card'}).img.get('src') + \">\"))"
      ],
      "metadata": {
        "colab": {
          "base_uri": "https://localhost:8080/",
          "height": 361
        },
        "id": "F4Gq5wXb5QOL",
        "outputId": "59415680-9c8e-4a6c-9318-5ec4b220f84a"
      },
      "execution_count": 83,
      "outputs": [
        {
          "output_type": "display_data",
          "data": {
            "text/plain": [
              "<IPython.core.display.HTML object>"
            ],
            "text/html": [
              "<img src=https://caelum-online-public.s3.amazonaws.com/1381-scraping/01/img-cars/lamborghini-aventador/lamborghini-aventador-2932196__340.jpg>"
            ]
          },
          "metadata": {}
        }
      ]
    },
    {
      "cell_type": "code",
      "source": [
        "image.get('src').split('/')[-1]"
      ],
      "metadata": {
        "colab": {
          "base_uri": "https://localhost:8080/",
          "height": 37
        },
        "id": "VmifWWUm68Wm",
        "outputId": "82e5b439-2bd1-41cc-a2fd-7c5573ed1495"
      },
      "execution_count": 87,
      "outputs": [
        {
          "output_type": "execute_result",
          "data": {
            "text/plain": [
              "'lamborghini-aventador-2932196__340.jpg'"
            ],
            "application/vnd.google.colaboratory.intrinsic+json": {
              "type": "string"
            }
          },
          "metadata": {},
          "execution_count": 87
        }
      ]
    },
    {
      "cell_type": "code",
      "source": [
        "from urllib.request import urlretrieve\n",
        "\n",
        "urlretrieve(image.get('src'), '/content/output/img/' + image.get('src').split('/')[-1])"
      ],
      "metadata": {
        "colab": {
          "base_uri": "https://localhost:8080/"
        },
        "id": "1HbL3MT15zwb",
        "outputId": "cab2ab67-caa4-492b-969a-c485254e8fe0"
      },
      "execution_count": 93,
      "outputs": [
        {
          "output_type": "execute_result",
          "data": {
            "text/plain": [
              "('/content/output/img/lamborghini-aventador-2932196__340.jpg',\n",
              " <http.client.HTTPMessage at 0x7f5cc3fb5550>)"
            ]
          },
          "metadata": {},
          "execution_count": 93
        }
      ]
    },
    {
      "cell_type": "code",
      "source": [],
      "metadata": {
        "id": "xWSVJIDU7W1G"
      },
      "execution_count": null,
      "outputs": []
    },
    {
      "cell_type": "code",
      "source": [],
      "metadata": {
        "id": "oh4gedWv-3DG"
      },
      "execution_count": null,
      "outputs": []
    },
    {
      "cell_type": "code",
      "source": [],
      "metadata": {
        "id": "gdri9sJC-3Fj"
      },
      "execution_count": null,
      "outputs": []
    },
    {
      "cell_type": "code",
      "source": [
        "soup"
      ],
      "metadata": {
        "colab": {
          "base_uri": "https://localhost:8080/"
        },
        "id": "9i9rpZYJ-3IB",
        "outputId": "9f8b4c8e-b19c-4e16-d2b0-001b8a2a1586"
      },
      "execution_count": 94,
      "outputs": [
        {
          "output_type": "execute_result",
          "data": {
            "text/plain": [
              "\n",
              "<html>\n",
              "<body>\n",
              "<ul>\n",
              "<li>Abertura</li>\n",
              "<li>10%</li>\n",
              "<li>11%</li>\n",
              "<li>10.5%</li>\n",
              "<li>9%</li>\n",
              "<li>Fechamento</li>\n",
              "</ul>\n",
              "</body>\n",
              "</html>"
            ]
          },
          "metadata": {},
          "execution_count": 94
        }
      ]
    },
    {
      "cell_type": "code",
      "source": [
        "len(soup.find('div', {'id': 'container-cards'}).findAll('div', {'class': 'card'}))"
      ],
      "metadata": {
        "colab": {
          "base_uri": "https://localhost:8080/"
        },
        "id": "gc__2vlC-3iC",
        "outputId": "93bc4bc5-c875-4edb-9533-d62b2f6c7337"
      },
      "execution_count": 100,
      "outputs": [
        {
          "output_type": "execute_result",
          "data": {
            "text/plain": [
              "10"
            ]
          },
          "metadata": {},
          "execution_count": 100
        }
      ]
    },
    {
      "cell_type": "code",
      "source": [
        "anuncios = soup.find('div', {'id': 'container-cards'}).findAll('div', {'class': 'card'})\n",
        "anuncios"
      ],
      "metadata": {
        "colab": {
          "base_uri": "https://localhost:8080/"
        },
        "id": "2JgdvQKv--FP",
        "outputId": "9a4946e1-c20a-4d6d-c294-26cfd7f795ff"
      },
      "execution_count": 101,
      "outputs": [
        {
          "output_type": "execute_result",
          "data": {
            "text/plain": [
              "[<div class=\"well card\">\n",
              " <div class=\"col-md-3 image-card\">\n",
              " <img alt=\"Foto\" height=\"155\" src=\"https://caelum-online-public.s3.amazonaws.com/1381-scraping/01/img-cars/lamborghini-aventador/lamborghini-aventador-2932196__340.jpg\" width=\"220\"/>\n",
              " </div>\n",
              " <div class=\"col-md-6 body-card\">\n",
              " <p class=\"txt-name inline\">LAMBORGHINI AVENTADOR</p>\n",
              " <p class=\"txt-category badge badge-secondary inline\">USADO</p>\n",
              " <p class=\"txt-motor\">Motor 1.8 16v</p>\n",
              " <p class=\"txt-description\">Ano 1993 - 55.286 km</p>\n",
              " <ul class=\"lst-items\">\n",
              " <li class=\"txt-items\">► 4 X 4</li>\n",
              " <li class=\"txt-items\">► Câmera de estacionamento</li>\n",
              " <li class=\"txt-items\">► Controle de tração</li>\n",
              " <li class=\"txt-items\">► Sensor de estacionamento</li>\n",
              " <li class=\"txt-items\">...</li>\n",
              " </ul>\n",
              " <p class=\"txt-location\">Belo Horizonte - MG</p>\n",
              " </div>\n",
              " <div class=\"col-md-3 value-card\">\n",
              " <div class=\"value\">\n",
              " <p class=\"txt-value\">R$ 338.000</p>\n",
              " </div>\n",
              " </div>\n",
              " </div>, <div class=\"well card\">\n",
              " <div class=\"col-md-3 image-card\">\n",
              " <img alt=\"Foto\" height=\"155\" src=\"https://caelum-online-public.s3.amazonaws.com/1381-scraping/01/img-cars/bmw-m2/bmw-m2-2970882__340.jpg\" width=\"220\"/>\n",
              " </div>\n",
              " <div class=\"col-md-6 body-card\">\n",
              " <p class=\"txt-name inline\">BMW M2</p>\n",
              " <p class=\"txt-category badge badge-secondary inline\">USADO</p>\n",
              " <p class=\"txt-motor\">Motor 3.0 32v</p>\n",
              " <p class=\"txt-description\">Ano 2018 - 83.447 km</p>\n",
              " <ul class=\"lst-items\">\n",
              " <li class=\"txt-items\">► Câmera de estacionamento</li>\n",
              " <li class=\"txt-items\">► Controle de estabilidade</li>\n",
              " <li class=\"txt-items\">► Travas elétricas</li>\n",
              " <li class=\"txt-items\">► Freios ABS</li>\n",
              " <li class=\"txt-items\">...</li>\n",
              " </ul>\n",
              " <p class=\"txt-location\">Belo Horizonte - MG</p>\n",
              " </div>\n",
              " <div class=\"col-md-3 value-card\">\n",
              " <div class=\"value\">\n",
              " <p class=\"txt-value\">R$ 346.000</p>\n",
              " </div>\n",
              " </div>\n",
              " </div>, <div class=\"well card\">\n",
              " <div class=\"col-md-3 image-card\">\n",
              " <img alt=\"Foto\" height=\"155\" src=\"https://caelum-online-public.s3.amazonaws.com/1381-scraping/01/img-cars/alfa/alfa-1823056__340.jpg\" width=\"220\"/>\n",
              " </div>\n",
              " <div class=\"col-md-6 body-card\">\n",
              " <p class=\"txt-name inline\">ALFA</p>\n",
              " <p class=\"txt-category badge badge-secondary inline\">USADO</p>\n",
              " <p class=\"txt-motor\">Motor 1.8 16v</p>\n",
              " <p class=\"txt-description\">Ano 2004 - 19.722 km</p>\n",
              " <ul class=\"lst-items\">\n",
              " <li class=\"txt-items\">► Central multimídia</li>\n",
              " <li class=\"txt-items\">► Bancos de couro</li>\n",
              " <li class=\"txt-items\">► Rodas de liga</li>\n",
              " <li class=\"txt-items\">► Câmera de estacionamento</li>\n",
              " <li class=\"txt-items\">...</li>\n",
              " </ul>\n",
              " <p class=\"txt-location\">Rio de Janeiro - RJ</p>\n",
              " </div>\n",
              " <div class=\"col-md-3 value-card\">\n",
              " <div class=\"value\">\n",
              " <p class=\"txt-value\">R$ 480.000</p>\n",
              " </div>\n",
              " </div>\n",
              " </div>, <div class=\"well card\">\n",
              " <div class=\"col-md-3 image-card\">\n",
              " <img alt=\"Foto\" height=\"155\" src=\"https://caelum-online-public.s3.amazonaws.com/1381-scraping/01/img-cars/puech/puech-4055386__340.jpg\" width=\"220\"/>\n",
              " </div>\n",
              " <div class=\"col-md-6 body-card\">\n",
              " <p class=\"txt-name inline\">PUECH</p>\n",
              " <p class=\"txt-category badge badge-secondary inline\">USADO</p>\n",
              " <p class=\"txt-motor\">Motor Diesel V8</p>\n",
              " <p class=\"txt-description\">Ano 1992 - 34.335 km</p>\n",
              " <ul class=\"lst-items\">\n",
              " <li class=\"txt-items\">► Bancos de couro</li>\n",
              " <li class=\"txt-items\">► Freios ABS</li>\n",
              " <li class=\"txt-items\">► Rodas de liga</li>\n",
              " <li class=\"txt-items\">► Câmbio automático</li>\n",
              " <li class=\"txt-items\">...</li>\n",
              " </ul>\n",
              " <p class=\"txt-location\">São Paulo - SP</p>\n",
              " </div>\n",
              " <div class=\"col-md-3 value-card\">\n",
              " <div class=\"value\">\n",
              " <p class=\"txt-value\">R$ 133.000</p>\n",
              " </div>\n",
              " </div>\n",
              " </div>, <div class=\"well card\">\n",
              " <div class=\"col-md-3 image-card\">\n",
              " <img alt=\"Foto\" height=\"155\" src=\"https://caelum-online-public.s3.amazonaws.com/1381-scraping/01/img-cars/lamborghini-murcielago/lamborghini-murcielago-2872974__340.jpg\" width=\"220\"/>\n",
              " </div>\n",
              " <div class=\"col-md-6 body-card\">\n",
              " <p class=\"txt-name inline\">LAMBORGHINI MURCIELAGO</p>\n",
              " <p class=\"txt-category badge badge-secondary inline\">USADO</p>\n",
              " <p class=\"txt-motor\">Motor 1.0 8v</p>\n",
              " <p class=\"txt-description\">Ano 1991 - 464 km</p>\n",
              " <ul class=\"lst-items\">\n",
              " <li class=\"txt-items\">► Central multimídia</li>\n",
              " <li class=\"txt-items\">► Teto panorâmico</li>\n",
              " <li class=\"txt-items\">► Sensor crepuscular</li>\n",
              " <li class=\"txt-items\">► Piloto automático</li>\n",
              " <li class=\"txt-items\">...</li>\n",
              " </ul>\n",
              " <p class=\"txt-location\">Belo Horizonte - MG</p>\n",
              " </div>\n",
              " <div class=\"col-md-3 value-card\">\n",
              " <div class=\"value\">\n",
              " <p class=\"txt-value\">R$ 175.000</p>\n",
              " </div>\n",
              " </div>\n",
              " </div>, <div class=\"well card\">\n",
              " <div class=\"col-md-3 image-card\">\n",
              " <img alt=\"Foto\" height=\"155\" src=\"https://caelum-online-public.s3.amazonaws.com/1381-scraping/01/img-cars/aston-martin/aston-martin-2977916__340.jpg\" width=\"220\"/>\n",
              " </div>\n",
              " <div class=\"col-md-6 body-card\">\n",
              " <p class=\"txt-name inline\">ASTON MARTIN</p>\n",
              " <p class=\"txt-category badge badge-secondary inline\">USADO</p>\n",
              " <p class=\"txt-opportunity badge badge-danger inline\">OPORTUNIDADE</p>\n",
              " <p class=\"txt-motor\">Motor Diesel V6</p>\n",
              " <p class=\"txt-description\">Ano 2004 - 50.189 km</p>\n",
              " <ul class=\"lst-items\">\n",
              " <li class=\"txt-items\">► Painel digital</li>\n",
              " <li class=\"txt-items\">► Controle de tração</li>\n",
              " <li class=\"txt-items\">► Teto panorâmico</li>\n",
              " <li class=\"txt-items\">► Central multimídia</li>\n",
              " <li class=\"txt-items\">...</li>\n",
              " </ul>\n",
              " <p class=\"txt-location\">Belo Horizonte - MG</p>\n",
              " </div>\n",
              " <div class=\"col-md-3 value-card\">\n",
              " <div class=\"value\">\n",
              " <p class=\"txt-value\">R$ 239.000</p>\n",
              " </div>\n",
              " </div>\n",
              " </div>, <div class=\"well card\">\n",
              " <div class=\"col-md-3 image-card\">\n",
              " <img alt=\"Foto\" height=\"155\" src=\"https://caelum-online-public.s3.amazonaws.com/1381-scraping/01/img-cars/tvr/tvr-2943925__340.jpg\" width=\"220\"/>\n",
              " </div>\n",
              " <div class=\"col-md-6 body-card\">\n",
              " <p class=\"txt-name inline\">TVR</p>\n",
              " <p class=\"txt-category badge badge-secondary inline\">USADO</p>\n",
              " <p class=\"txt-motor\">Motor 4.0 Turbo</p>\n",
              " <p class=\"txt-description\">Ano 2014 - 17.778 km</p>\n",
              " <ul class=\"lst-items\">\n",
              " <li class=\"txt-items\">► 4 X 4</li>\n",
              " <li class=\"txt-items\">► Teto panorâmico</li>\n",
              " <li class=\"txt-items\">► Central multimídia</li>\n",
              " <li class=\"txt-items\">► Controle de estabilidade</li>\n",
              " <li class=\"txt-items\">...</li>\n",
              " </ul>\n",
              " <p class=\"txt-location\">Belo Horizonte - MG</p>\n",
              " </div>\n",
              " <div class=\"col-md-3 value-card\">\n",
              " <div class=\"value\">\n",
              " <p class=\"txt-value\">R$ 115.000</p>\n",
              " </div>\n",
              " </div>\n",
              " </div>, <div class=\"well card\">\n",
              " <div class=\"col-md-3 image-card\">\n",
              " <img alt=\"Foto\" height=\"155\" src=\"https://caelum-online-public.s3.amazonaws.com/1381-scraping/01/img-cars/excalibur/excalibur-2916730__340.jpg\" width=\"220\"/>\n",
              " </div>\n",
              " <div class=\"col-md-6 body-card\">\n",
              " <p class=\"txt-name inline\">EXCALIBUR</p>\n",
              " <p class=\"txt-category badge badge-secondary inline\">USADO</p>\n",
              " <p class=\"txt-motor\">Motor 3.0 32v</p>\n",
              " <p class=\"txt-description\">Ano 2009 - 81.251 km</p>\n",
              " <ul class=\"lst-items\">\n",
              " <li class=\"txt-items\">► Painel digital</li>\n",
              " <li class=\"txt-items\">► Câmbio automático</li>\n",
              " <li class=\"txt-items\">► Sensor de chuva</li>\n",
              " <li class=\"txt-items\">► Travas elétricas</li>\n",
              " <li class=\"txt-items\">...</li>\n",
              " </ul>\n",
              " <p class=\"txt-location\">Rio de Janeiro - RJ</p>\n",
              " </div>\n",
              " <div class=\"col-md-3 value-card\">\n",
              " <div class=\"value\">\n",
              " <p class=\"txt-value\">R$ 114.000</p>\n",
              " </div>\n",
              " </div>\n",
              " </div>, <div class=\"well card\">\n",
              " <div class=\"col-md-3 image-card\">\n",
              " <img alt=\"Foto\" height=\"155\" src=\"https://caelum-online-public.s3.amazonaws.com/1381-scraping/01/img-cars/mclaren/mclaren-2855240__340.jpg\" width=\"220\"/>\n",
              " </div>\n",
              " <div class=\"col-md-6 body-card\">\n",
              " <p class=\"txt-name inline\">MCLAREN</p>\n",
              " <p class=\"txt-category badge badge-secondary inline\">NOVO</p>\n",
              " <p class=\"txt-motor\">Motor Diesel</p>\n",
              " <p class=\"txt-description\">Ano 2019 - 0 km</p>\n",
              " <ul class=\"lst-items\">\n",
              " <li class=\"txt-items\">► Central multimídia</li>\n",
              " <li class=\"txt-items\">► Câmera de estacionamento</li>\n",
              " <li class=\"txt-items\">► Câmbio automático</li>\n",
              " <li class=\"txt-items\">► Ar condicionado</li>\n",
              " <li class=\"txt-items\">...</li>\n",
              " </ul>\n",
              " <p class=\"txt-location\">São Paulo - SP</p>\n",
              " </div>\n",
              " <div class=\"col-md-3 value-card\">\n",
              " <div class=\"value\">\n",
              " <p class=\"txt-value\">R$ 75.000</p>\n",
              " </div>\n",
              " </div>\n",
              " </div>, <div class=\"well card\">\n",
              " <div class=\"col-md-3 image-card\">\n",
              " <img alt=\"Foto\" height=\"155\" src=\"https://caelum-online-public.s3.amazonaws.com/1381-scraping/01/img-cars/toyota/toyota-3245397__340.jpg\" width=\"220\"/>\n",
              " </div>\n",
              " <div class=\"col-md-6 body-card\">\n",
              " <p class=\"txt-name inline\">TOYOTA</p>\n",
              " <p class=\"txt-category badge badge-secondary inline\">USADO</p>\n",
              " <p class=\"txt-opportunity badge badge-danger inline\">OPORTUNIDADE</p>\n",
              " <p class=\"txt-motor\">Motor 4.0 Turbo</p>\n",
              " <p class=\"txt-description\">Ano 1999 - 12.536 km</p>\n",
              " <ul class=\"lst-items\">\n",
              " <li class=\"txt-items\">► Bancos de couro</li>\n",
              " <li class=\"txt-items\">► Freios ABS</li>\n",
              " <li class=\"txt-items\">► Piloto automático</li>\n",
              " <li class=\"txt-items\">► Controle de estabilidade</li>\n",
              " <li class=\"txt-items\">...</li>\n",
              " </ul>\n",
              " <p class=\"txt-location\">São Paulo - SP</p>\n",
              " </div>\n",
              " <div class=\"col-md-3 value-card\">\n",
              " <div class=\"value\">\n",
              " <p class=\"txt-value\">R$ 117.000</p>\n",
              " </div>\n",
              " </div>\n",
              " </div>]"
            ]
          },
          "metadata": {},
          "execution_count": 101
        }
      ]
    },
    {
      "cell_type": "code",
      "source": [
        "for anuncio in anuncios:\n",
        "  print(str(anuncio) + '\\n\\n')"
      ],
      "metadata": {
        "colab": {
          "base_uri": "https://localhost:8080/"
        },
        "id": "butfwNW7_78_",
        "outputId": "c028560a-24f4-4918-9e92-af6f973ff9b8"
      },
      "execution_count": 103,
      "outputs": [
        {
          "output_type": "stream",
          "name": "stdout",
          "text": [
            "<div class=\"well card\">\n",
            "<div class=\"col-md-3 image-card\">\n",
            "<img alt=\"Foto\" height=\"155\" src=\"https://caelum-online-public.s3.amazonaws.com/1381-scraping/01/img-cars/lamborghini-aventador/lamborghini-aventador-2932196__340.jpg\" width=\"220\"/>\n",
            "</div>\n",
            "<div class=\"col-md-6 body-card\">\n",
            "<p class=\"txt-name inline\">LAMBORGHINI AVENTADOR</p>\n",
            "<p class=\"txt-category badge badge-secondary inline\">USADO</p>\n",
            "<p class=\"txt-motor\">Motor 1.8 16v</p>\n",
            "<p class=\"txt-description\">Ano 1993 - 55.286 km</p>\n",
            "<ul class=\"lst-items\">\n",
            "<li class=\"txt-items\">► 4 X 4</li>\n",
            "<li class=\"txt-items\">► Câmera de estacionamento</li>\n",
            "<li class=\"txt-items\">► Controle de tração</li>\n",
            "<li class=\"txt-items\">► Sensor de estacionamento</li>\n",
            "<li class=\"txt-items\">...</li>\n",
            "</ul>\n",
            "<p class=\"txt-location\">Belo Horizonte - MG</p>\n",
            "</div>\n",
            "<div class=\"col-md-3 value-card\">\n",
            "<div class=\"value\">\n",
            "<p class=\"txt-value\">R$ 338.000</p>\n",
            "</div>\n",
            "</div>\n",
            "</div>\n",
            "\n",
            "\n",
            "<div class=\"well card\">\n",
            "<div class=\"col-md-3 image-card\">\n",
            "<img alt=\"Foto\" height=\"155\" src=\"https://caelum-online-public.s3.amazonaws.com/1381-scraping/01/img-cars/bmw-m2/bmw-m2-2970882__340.jpg\" width=\"220\"/>\n",
            "</div>\n",
            "<div class=\"col-md-6 body-card\">\n",
            "<p class=\"txt-name inline\">BMW M2</p>\n",
            "<p class=\"txt-category badge badge-secondary inline\">USADO</p>\n",
            "<p class=\"txt-motor\">Motor 3.0 32v</p>\n",
            "<p class=\"txt-description\">Ano 2018 - 83.447 km</p>\n",
            "<ul class=\"lst-items\">\n",
            "<li class=\"txt-items\">► Câmera de estacionamento</li>\n",
            "<li class=\"txt-items\">► Controle de estabilidade</li>\n",
            "<li class=\"txt-items\">► Travas elétricas</li>\n",
            "<li class=\"txt-items\">► Freios ABS</li>\n",
            "<li class=\"txt-items\">...</li>\n",
            "</ul>\n",
            "<p class=\"txt-location\">Belo Horizonte - MG</p>\n",
            "</div>\n",
            "<div class=\"col-md-3 value-card\">\n",
            "<div class=\"value\">\n",
            "<p class=\"txt-value\">R$ 346.000</p>\n",
            "</div>\n",
            "</div>\n",
            "</div>\n",
            "\n",
            "\n",
            "<div class=\"well card\">\n",
            "<div class=\"col-md-3 image-card\">\n",
            "<img alt=\"Foto\" height=\"155\" src=\"https://caelum-online-public.s3.amazonaws.com/1381-scraping/01/img-cars/alfa/alfa-1823056__340.jpg\" width=\"220\"/>\n",
            "</div>\n",
            "<div class=\"col-md-6 body-card\">\n",
            "<p class=\"txt-name inline\">ALFA</p>\n",
            "<p class=\"txt-category badge badge-secondary inline\">USADO</p>\n",
            "<p class=\"txt-motor\">Motor 1.8 16v</p>\n",
            "<p class=\"txt-description\">Ano 2004 - 19.722 km</p>\n",
            "<ul class=\"lst-items\">\n",
            "<li class=\"txt-items\">► Central multimídia</li>\n",
            "<li class=\"txt-items\">► Bancos de couro</li>\n",
            "<li class=\"txt-items\">► Rodas de liga</li>\n",
            "<li class=\"txt-items\">► Câmera de estacionamento</li>\n",
            "<li class=\"txt-items\">...</li>\n",
            "</ul>\n",
            "<p class=\"txt-location\">Rio de Janeiro - RJ</p>\n",
            "</div>\n",
            "<div class=\"col-md-3 value-card\">\n",
            "<div class=\"value\">\n",
            "<p class=\"txt-value\">R$ 480.000</p>\n",
            "</div>\n",
            "</div>\n",
            "</div>\n",
            "\n",
            "\n",
            "<div class=\"well card\">\n",
            "<div class=\"col-md-3 image-card\">\n",
            "<img alt=\"Foto\" height=\"155\" src=\"https://caelum-online-public.s3.amazonaws.com/1381-scraping/01/img-cars/puech/puech-4055386__340.jpg\" width=\"220\"/>\n",
            "</div>\n",
            "<div class=\"col-md-6 body-card\">\n",
            "<p class=\"txt-name inline\">PUECH</p>\n",
            "<p class=\"txt-category badge badge-secondary inline\">USADO</p>\n",
            "<p class=\"txt-motor\">Motor Diesel V8</p>\n",
            "<p class=\"txt-description\">Ano 1992 - 34.335 km</p>\n",
            "<ul class=\"lst-items\">\n",
            "<li class=\"txt-items\">► Bancos de couro</li>\n",
            "<li class=\"txt-items\">► Freios ABS</li>\n",
            "<li class=\"txt-items\">► Rodas de liga</li>\n",
            "<li class=\"txt-items\">► Câmbio automático</li>\n",
            "<li class=\"txt-items\">...</li>\n",
            "</ul>\n",
            "<p class=\"txt-location\">São Paulo - SP</p>\n",
            "</div>\n",
            "<div class=\"col-md-3 value-card\">\n",
            "<div class=\"value\">\n",
            "<p class=\"txt-value\">R$ 133.000</p>\n",
            "</div>\n",
            "</div>\n",
            "</div>\n",
            "\n",
            "\n",
            "<div class=\"well card\">\n",
            "<div class=\"col-md-3 image-card\">\n",
            "<img alt=\"Foto\" height=\"155\" src=\"https://caelum-online-public.s3.amazonaws.com/1381-scraping/01/img-cars/lamborghini-murcielago/lamborghini-murcielago-2872974__340.jpg\" width=\"220\"/>\n",
            "</div>\n",
            "<div class=\"col-md-6 body-card\">\n",
            "<p class=\"txt-name inline\">LAMBORGHINI MURCIELAGO</p>\n",
            "<p class=\"txt-category badge badge-secondary inline\">USADO</p>\n",
            "<p class=\"txt-motor\">Motor 1.0 8v</p>\n",
            "<p class=\"txt-description\">Ano 1991 - 464 km</p>\n",
            "<ul class=\"lst-items\">\n",
            "<li class=\"txt-items\">► Central multimídia</li>\n",
            "<li class=\"txt-items\">► Teto panorâmico</li>\n",
            "<li class=\"txt-items\">► Sensor crepuscular</li>\n",
            "<li class=\"txt-items\">► Piloto automático</li>\n",
            "<li class=\"txt-items\">...</li>\n",
            "</ul>\n",
            "<p class=\"txt-location\">Belo Horizonte - MG</p>\n",
            "</div>\n",
            "<div class=\"col-md-3 value-card\">\n",
            "<div class=\"value\">\n",
            "<p class=\"txt-value\">R$ 175.000</p>\n",
            "</div>\n",
            "</div>\n",
            "</div>\n",
            "\n",
            "\n",
            "<div class=\"well card\">\n",
            "<div class=\"col-md-3 image-card\">\n",
            "<img alt=\"Foto\" height=\"155\" src=\"https://caelum-online-public.s3.amazonaws.com/1381-scraping/01/img-cars/aston-martin/aston-martin-2977916__340.jpg\" width=\"220\"/>\n",
            "</div>\n",
            "<div class=\"col-md-6 body-card\">\n",
            "<p class=\"txt-name inline\">ASTON MARTIN</p>\n",
            "<p class=\"txt-category badge badge-secondary inline\">USADO</p>\n",
            "<p class=\"txt-opportunity badge badge-danger inline\">OPORTUNIDADE</p>\n",
            "<p class=\"txt-motor\">Motor Diesel V6</p>\n",
            "<p class=\"txt-description\">Ano 2004 - 50.189 km</p>\n",
            "<ul class=\"lst-items\">\n",
            "<li class=\"txt-items\">► Painel digital</li>\n",
            "<li class=\"txt-items\">► Controle de tração</li>\n",
            "<li class=\"txt-items\">► Teto panorâmico</li>\n",
            "<li class=\"txt-items\">► Central multimídia</li>\n",
            "<li class=\"txt-items\">...</li>\n",
            "</ul>\n",
            "<p class=\"txt-location\">Belo Horizonte - MG</p>\n",
            "</div>\n",
            "<div class=\"col-md-3 value-card\">\n",
            "<div class=\"value\">\n",
            "<p class=\"txt-value\">R$ 239.000</p>\n",
            "</div>\n",
            "</div>\n",
            "</div>\n",
            "\n",
            "\n",
            "<div class=\"well card\">\n",
            "<div class=\"col-md-3 image-card\">\n",
            "<img alt=\"Foto\" height=\"155\" src=\"https://caelum-online-public.s3.amazonaws.com/1381-scraping/01/img-cars/tvr/tvr-2943925__340.jpg\" width=\"220\"/>\n",
            "</div>\n",
            "<div class=\"col-md-6 body-card\">\n",
            "<p class=\"txt-name inline\">TVR</p>\n",
            "<p class=\"txt-category badge badge-secondary inline\">USADO</p>\n",
            "<p class=\"txt-motor\">Motor 4.0 Turbo</p>\n",
            "<p class=\"txt-description\">Ano 2014 - 17.778 km</p>\n",
            "<ul class=\"lst-items\">\n",
            "<li class=\"txt-items\">► 4 X 4</li>\n",
            "<li class=\"txt-items\">► Teto panorâmico</li>\n",
            "<li class=\"txt-items\">► Central multimídia</li>\n",
            "<li class=\"txt-items\">► Controle de estabilidade</li>\n",
            "<li class=\"txt-items\">...</li>\n",
            "</ul>\n",
            "<p class=\"txt-location\">Belo Horizonte - MG</p>\n",
            "</div>\n",
            "<div class=\"col-md-3 value-card\">\n",
            "<div class=\"value\">\n",
            "<p class=\"txt-value\">R$ 115.000</p>\n",
            "</div>\n",
            "</div>\n",
            "</div>\n",
            "\n",
            "\n",
            "<div class=\"well card\">\n",
            "<div class=\"col-md-3 image-card\">\n",
            "<img alt=\"Foto\" height=\"155\" src=\"https://caelum-online-public.s3.amazonaws.com/1381-scraping/01/img-cars/excalibur/excalibur-2916730__340.jpg\" width=\"220\"/>\n",
            "</div>\n",
            "<div class=\"col-md-6 body-card\">\n",
            "<p class=\"txt-name inline\">EXCALIBUR</p>\n",
            "<p class=\"txt-category badge badge-secondary inline\">USADO</p>\n",
            "<p class=\"txt-motor\">Motor 3.0 32v</p>\n",
            "<p class=\"txt-description\">Ano 2009 - 81.251 km</p>\n",
            "<ul class=\"lst-items\">\n",
            "<li class=\"txt-items\">► Painel digital</li>\n",
            "<li class=\"txt-items\">► Câmbio automático</li>\n",
            "<li class=\"txt-items\">► Sensor de chuva</li>\n",
            "<li class=\"txt-items\">► Travas elétricas</li>\n",
            "<li class=\"txt-items\">...</li>\n",
            "</ul>\n",
            "<p class=\"txt-location\">Rio de Janeiro - RJ</p>\n",
            "</div>\n",
            "<div class=\"col-md-3 value-card\">\n",
            "<div class=\"value\">\n",
            "<p class=\"txt-value\">R$ 114.000</p>\n",
            "</div>\n",
            "</div>\n",
            "</div>\n",
            "\n",
            "\n",
            "<div class=\"well card\">\n",
            "<div class=\"col-md-3 image-card\">\n",
            "<img alt=\"Foto\" height=\"155\" src=\"https://caelum-online-public.s3.amazonaws.com/1381-scraping/01/img-cars/mclaren/mclaren-2855240__340.jpg\" width=\"220\"/>\n",
            "</div>\n",
            "<div class=\"col-md-6 body-card\">\n",
            "<p class=\"txt-name inline\">MCLAREN</p>\n",
            "<p class=\"txt-category badge badge-secondary inline\">NOVO</p>\n",
            "<p class=\"txt-motor\">Motor Diesel</p>\n",
            "<p class=\"txt-description\">Ano 2019 - 0 km</p>\n",
            "<ul class=\"lst-items\">\n",
            "<li class=\"txt-items\">► Central multimídia</li>\n",
            "<li class=\"txt-items\">► Câmera de estacionamento</li>\n",
            "<li class=\"txt-items\">► Câmbio automático</li>\n",
            "<li class=\"txt-items\">► Ar condicionado</li>\n",
            "<li class=\"txt-items\">...</li>\n",
            "</ul>\n",
            "<p class=\"txt-location\">São Paulo - SP</p>\n",
            "</div>\n",
            "<div class=\"col-md-3 value-card\">\n",
            "<div class=\"value\">\n",
            "<p class=\"txt-value\">R$ 75.000</p>\n",
            "</div>\n",
            "</div>\n",
            "</div>\n",
            "\n",
            "\n",
            "<div class=\"well card\">\n",
            "<div class=\"col-md-3 image-card\">\n",
            "<img alt=\"Foto\" height=\"155\" src=\"https://caelum-online-public.s3.amazonaws.com/1381-scraping/01/img-cars/toyota/toyota-3245397__340.jpg\" width=\"220\"/>\n",
            "</div>\n",
            "<div class=\"col-md-6 body-card\">\n",
            "<p class=\"txt-name inline\">TOYOTA</p>\n",
            "<p class=\"txt-category badge badge-secondary inline\">USADO</p>\n",
            "<p class=\"txt-opportunity badge badge-danger inline\">OPORTUNIDADE</p>\n",
            "<p class=\"txt-motor\">Motor 4.0 Turbo</p>\n",
            "<p class=\"txt-description\">Ano 1999 - 12.536 km</p>\n",
            "<ul class=\"lst-items\">\n",
            "<li class=\"txt-items\">► Bancos de couro</li>\n",
            "<li class=\"txt-items\">► Freios ABS</li>\n",
            "<li class=\"txt-items\">► Piloto automático</li>\n",
            "<li class=\"txt-items\">► Controle de estabilidade</li>\n",
            "<li class=\"txt-items\">...</li>\n",
            "</ul>\n",
            "<p class=\"txt-location\">São Paulo - SP</p>\n",
            "</div>\n",
            "<div class=\"col-md-3 value-card\">\n",
            "<div class=\"value\">\n",
            "<p class=\"txt-value\">R$ 117.000</p>\n",
            "</div>\n",
            "</div>\n",
            "</div>\n",
            "\n",
            "\n"
          ]
        }
      ]
    },
    {
      "cell_type": "code",
      "source": [],
      "metadata": {
        "id": "pfPvVm8dAC0Y"
      },
      "execution_count": null,
      "outputs": []
    }
  ]
}